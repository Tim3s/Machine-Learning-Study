{
  "nbformat": 4,
  "nbformat_minor": 0,
  "metadata": {
    "colab": {
      "name": "9-2 Classifying IMDB Review with RNN",
      "provenance": [],
      "collapsed_sections": [],
      "authorship_tag": "ABX9TyPbQFTqbpiVTNBrs/dBe0JS",
      "include_colab_link": true
    },
    "kernelspec": {
      "name": "python3",
      "display_name": "Python 3"
    },
    "language_info": {
      "name": "python"
    },
    "accelerator": "GPU"
  },
  "cells": [
    {
      "cell_type": "markdown",
      "metadata": {
        "id": "view-in-github",
        "colab_type": "text"
      },
      "source": [
        "<a href=\"https://colab.research.google.com/github/Tim3s/Machine-Learning-Study/blob/main/9-2%20Classifying%20IMDB%20Review%20with%20RNN.ipynb\" target=\"_parent\"><img src=\"https://colab.research.google.com/assets/colab-badge.svg\" alt=\"Open In Colab\"/></a>"
      ]
    },
    {
      "cell_type": "code",
      "metadata": {
        "colab": {
          "base_uri": "https://localhost:8080/"
        },
        "id": "4QxA8fImzHGo",
        "outputId": "1c2cef7a-f92f-4c2a-a817-7ba065e7eabf"
      },
      "source": [
        "from tensorflow import keras\n",
        "(train_input, train_target), (test_input, test_target) = keras.datasets.imdb.load_data(num_words=500)"
      ],
      "execution_count": 2,
      "outputs": [
        {
          "output_type": "stream",
          "name": "stdout",
          "text": [
            "Downloading data from https://storage.googleapis.com/tensorflow/tf-keras-datasets/imdb.npz\n",
            "17465344/17464789 [==============================] - 0s 0us/step\n",
            "17473536/17464789 [==============================] - 0s 0us/step\n"
          ]
        }
      ]
    },
    {
      "cell_type": "code",
      "metadata": {
        "colab": {
          "base_uri": "https://localhost:8080/"
        },
        "id": "B57Z9QL35s3z",
        "outputId": "ffb172a1-f635-499d-b93b-304118287022"
      },
      "source": [
        "print(train_input.shape, test_input.shape)"
      ],
      "execution_count": 3,
      "outputs": [
        {
          "output_type": "stream",
          "name": "stdout",
          "text": [
            "(25000,) (25000,)\n"
          ]
        }
      ]
    },
    {
      "cell_type": "code",
      "metadata": {
        "colab": {
          "base_uri": "https://localhost:8080/"
        },
        "id": "3tsy0BTj55a5",
        "outputId": "1eaeb92f-05de-457f-85d5-1c1839f2bc32"
      },
      "source": [
        "print(len(train_input[0]), len(train_input[1]))"
      ],
      "execution_count": 4,
      "outputs": [
        {
          "output_type": "stream",
          "name": "stdout",
          "text": [
            "218 189\n"
          ]
        }
      ]
    },
    {
      "cell_type": "code",
      "metadata": {
        "colab": {
          "base_uri": "https://localhost:8080/"
        },
        "id": "-SzFhipN6CNQ",
        "outputId": "ced2c5eb-9374-45d9-ef7a-69683ced7c96"
      },
      "source": [
        "print(train_input[0])"
      ],
      "execution_count": 5,
      "outputs": [
        {
          "output_type": "stream",
          "name": "stdout",
          "text": [
            "[1, 14, 22, 16, 43, 2, 2, 2, 2, 65, 458, 2, 66, 2, 4, 173, 36, 256, 5, 25, 100, 43, 2, 112, 50, 2, 2, 9, 35, 480, 284, 5, 150, 4, 172, 112, 167, 2, 336, 385, 39, 4, 172, 2, 2, 17, 2, 38, 13, 447, 4, 192, 50, 16, 6, 147, 2, 19, 14, 22, 4, 2, 2, 469, 4, 22, 71, 87, 12, 16, 43, 2, 38, 76, 15, 13, 2, 4, 22, 17, 2, 17, 12, 16, 2, 18, 2, 5, 62, 386, 12, 8, 316, 8, 106, 5, 4, 2, 2, 16, 480, 66, 2, 33, 4, 130, 12, 16, 38, 2, 5, 25, 124, 51, 36, 135, 48, 25, 2, 33, 6, 22, 12, 215, 28, 77, 52, 5, 14, 407, 16, 82, 2, 8, 4, 107, 117, 2, 15, 256, 4, 2, 7, 2, 5, 2, 36, 71, 43, 2, 476, 26, 400, 317, 46, 7, 4, 2, 2, 13, 104, 88, 4, 381, 15, 297, 98, 32, 2, 56, 26, 141, 6, 194, 2, 18, 4, 226, 22, 21, 134, 476, 26, 480, 5, 144, 30, 2, 18, 51, 36, 28, 224, 92, 25, 104, 4, 226, 65, 16, 38, 2, 88, 12, 16, 283, 5, 16, 2, 113, 103, 32, 15, 16, 2, 19, 178, 32]\n"
          ]
        }
      ]
    },
    {
      "cell_type": "code",
      "metadata": {
        "colab": {
          "base_uri": "https://localhost:8080/"
        },
        "id": "RXvxtR636Gj4",
        "outputId": "ccfc3a80-f0c8-409d-d70f-917b2f966cf6"
      },
      "source": [
        "print(train_target[:20])"
      ],
      "execution_count": 6,
      "outputs": [
        {
          "output_type": "stream",
          "name": "stdout",
          "text": [
            "[1 0 0 1 0 0 1 0 1 0 1 0 0 0 0 0 1 1 0 1]\n"
          ]
        }
      ]
    },
    {
      "cell_type": "code",
      "metadata": {
        "id": "WcwogsE66mFn"
      },
      "source": [
        "from sklearn.model_selection import train_test_split\n",
        "train_input, val_input, train_target, val_target = train_test_split(train_input, train_target, test_size=0.2, random_state=42)"
      ],
      "execution_count": 7,
      "outputs": []
    },
    {
      "cell_type": "code",
      "metadata": {
        "colab": {
          "base_uri": "https://localhost:8080/"
        },
        "id": "-k_Lfb0F67UL",
        "outputId": "1ba4d600-ecbd-4ddf-a35c-bf8da6cc32d6"
      },
      "source": [
        "import numpy as np\n",
        "lengths = np.array([len(x) for x in train_input])\n",
        "print(np.mean(lengths), np.median(lengths))"
      ],
      "execution_count": 8,
      "outputs": [
        {
          "output_type": "stream",
          "name": "stdout",
          "text": [
            "239.00925 178.0\n"
          ]
        }
      ]
    },
    {
      "cell_type": "code",
      "metadata": {
        "colab": {
          "base_uri": "https://localhost:8080/",
          "height": 279
        },
        "id": "_yHlBzIb7Wem",
        "outputId": "7ca06a6e-b30f-48ad-ebbe-40108c9a74d5"
      },
      "source": [
        "import matplotlib.pyplot as plt\n",
        "plt.hist(lengths)\n",
        "plt.xlabel('length')\n",
        "plt.ylabel('frequency')\n",
        "plt.show()"
      ],
      "execution_count": 9,
      "outputs": [
        {
          "output_type": "display_data",
          "data": {
            "image/png": "[encoded data removed]",
            "text/plain": [
              "<Figure size 432x288 with 1 Axes>"
            ]
          },
          "metadata": {
            "needs_background": "light"
          }
        }
      ]
    },
    {
      "cell_type": "code",
      "metadata": {
        "colab": {
          "base_uri": "https://localhost:8080/"
        },
        "id": "9sR6VafC7on4",
        "outputId": "9592da80-7d1e-451c-a28a-28057caed4ea"
      },
      "source": [
        "print(np.max(lengths))"
      ],
      "execution_count": 10,
      "outputs": [
        {
          "output_type": "stream",
          "name": "stdout",
          "text": [
            "1854\n"
          ]
        }
      ]
    },
    {
      "cell_type": "code",
      "metadata": {
        "id": "UvcUiCGM7wjj"
      },
      "source": [
        "from tensorflow.keras.preprocessing.sequence import pad_sequences\n",
        "train_seq = pad_sequences(train_input, maxlen=100)"
      ],
      "execution_count": 11,
      "outputs": []
    },
    {
      "cell_type": "code",
      "metadata": {
        "colab": {
          "base_uri": "https://localhost:8080/"
        },
        "id": "nXbxU-lM-4Ce",
        "outputId": "fa389191-4c1c-4535-a43d-ec13cd05fd3a"
      },
      "source": [
        "print(train_seq.shape)"
      ],
      "execution_count": 12,
      "outputs": [
        {
          "output_type": "stream",
          "name": "stdout",
          "text": [
            "(20000, 100)\n"
          ]
        }
      ]
    },
    {
      "cell_type": "code",
      "metadata": {
        "colab": {
          "base_uri": "https://localhost:8080/"
        },
        "id": "EcXDjqAT-68h",
        "outputId": "fc93908c-33c5-4547-87d7-84026ff90182"
      },
      "source": [
        "print(train_seq[0])"
      ],
      "execution_count": 13,
      "outputs": [
        {
          "output_type": "stream",
          "name": "stdout",
          "text": [
            "[ 10   4  20   9   2 364 352   5  45   6   2   2  33 269   8   2 142   2\n",
            "   5   2  17  73  17 204   5   2  19  55   2   2  92  66 104  14  20  93\n",
            "  76   2 151  33   4  58  12 188   2 151  12 215  69 224 142  73 237   6\n",
            "   2   7   2   2 188   2 103  14  31  10  10 451   7   2   5   2  80  91\n",
            "   2  30   2  34  14  20 151  50  26 131  49   2  84  46  50  37  80  79\n",
            "   6   2  46   7  14  20  10  10 470 158]\n"
          ]
        }
      ]
    },
    {
      "cell_type": "code",
      "metadata": {
        "colab": {
          "base_uri": "https://localhost:8080/"
        },
        "id": "sB40-5sQ_Gio",
        "outputId": "536fc11a-18b0-43ee-a1d1-afacc8bada30"
      },
      "source": [
        "print(train_input[0][-10:])"
      ],
      "execution_count": 14,
      "outputs": [
        {
          "output_type": "stream",
          "name": "stdout",
          "text": [
            "[6, 2, 46, 7, 14, 20, 10, 10, 470, 158]\n"
          ]
        }
      ]
    },
    {
      "cell_type": "code",
      "metadata": {
        "colab": {
          "base_uri": "https://localhost:8080/"
        },
        "id": "IYy3ZcMj_Mn-",
        "outputId": "ae26885c-e311-4fab-d92b-05a35527d84a"
      },
      "source": [
        "print(train_seq[5])"
      ],
      "execution_count": 15,
      "outputs": [
        {
          "output_type": "stream",
          "name": "stdout",
          "text": [
            "[  0   0   0   0   1   2 195  19  49   2   2 190   4   2 352   2 183  10\n",
            "  10  13  82  79   4   2  36  71 269   8   2  25  19  49   7   4   2   2\n",
            "   2   2   2  10  10  48  25  40   2  11   2   2  40   2   2   5   4   2\n",
            "   2  95  14 238  56 129   2  10  10  21   2  94 364 352   2   2  11 190\n",
            "  24 484   2   7  94 205 405  10  10  87   2  34  49   2   7   2   2   2\n",
            "   2   2 290   2  46  48  64  18   4   2]\n"
          ]
        }
      ]
    },
    {
      "cell_type": "code",
      "metadata": {
        "id": "XQgm_dyUAMYj"
      },
      "source": [
        "val_seq = pad_sequences(val_input, maxlen=100)"
      ],
      "execution_count": 16,
      "outputs": []
    },
    {
      "cell_type": "code",
      "metadata": {
        "id": "gsqaK7cVBEiv"
      },
      "source": [
        "model = keras.Sequential()\n",
        "model.add(keras.layers.SimpleRNN(8, input_shape=(100, 500)))\n",
        "model.add(keras.layers.Dense(1, activation='sigmoid'))"
      ],
      "execution_count": 17,
      "outputs": []
    },
    {
      "cell_type": "code",
      "metadata": {
        "colab": {
          "base_uri": "https://localhost:8080/",
          "height": 312
        },
        "id": "VreAMWL3Ccfq",
        "outputId": "e0d5ce41-4deb-4c36-f2b8-f1b4ff354f35"
      },
      "source": [
        "keras.utils.plot_model(model, show_shapes=True)"
      ],
      "execution_count": 18,
      "outputs": [
        {
          "output_type": "execute_result",
          "data": {
            "image/png": "[encoded data removed]",
            "text/plain": [
              "<IPython.core.display.Image object>"
            ]
          },
          "metadata": {},
          "execution_count": 18
        }
      ]
    },
    {
      "cell_type": "code",
      "metadata": {
        "id": "HjTPtjZqCmlq"
      },
      "source": [
        "train_oh = keras.utils.to_categorical(train_seq)"
      ],
      "execution_count": 19,
      "outputs": []
    },
    {
      "cell_type": "code",
      "metadata": {
        "colab": {
          "base_uri": "https://localhost:8080/"
        },
        "id": "OS4laUvLDLJ8",
        "outputId": "7c910893-9375-4c20-9e47-372742054dbe"
      },
      "source": [
        "print(train_oh.shape)"
      ],
      "execution_count": 20,
      "outputs": [
        {
          "output_type": "stream",
          "name": "stdout",
          "text": [
            "(20000, 100, 500)\n"
          ]
        }
      ]
    },
    {
      "cell_type": "code",
      "metadata": {
        "colab": {
          "base_uri": "https://localhost:8080/"
        },
        "id": "eNiHuRluDNEj",
        "outputId": "a983e89e-6b5d-4973-e1c2-4b1cd45614fd"
      },
      "source": [
        "print(train_oh[0][0][:12])"
      ],
      "execution_count": 21,
      "outputs": [
        {
          "output_type": "stream",
          "name": "stdout",
          "text": [
            "[0. 0. 0. 0. 0. 0. 0. 0. 0. 0. 1. 0.]\n"
          ]
        }
      ]
    },
    {
      "cell_type": "code",
      "metadata": {
        "colab": {
          "base_uri": "https://localhost:8080/"
        },
        "id": "7FZ3pwAUDVPy",
        "outputId": "6f980e37-cadd-445a-81f7-55c3ad69bf1b"
      },
      "source": [
        "print(np.sum(train_oh[0][0]))"
      ],
      "execution_count": 22,
      "outputs": [
        {
          "output_type": "stream",
          "name": "stdout",
          "text": [
            "1.0\n"
          ]
        }
      ]
    },
    {
      "cell_type": "code",
      "metadata": {
        "id": "83O2xLxgHFUg"
      },
      "source": [
        "val_oh = keras.utils.to_categorical(val_seq)"
      ],
      "execution_count": 23,
      "outputs": []
    },
    {
      "cell_type": "code",
      "metadata": {
        "colab": {
          "base_uri": "https://localhost:8080/"
        },
        "id": "Wx5cUeq_IDkt",
        "outputId": "164966b7-6a98-40b1-dc31-fa6b55c900b0"
      },
      "source": [
        "print(train_oh.shape, train_target.shape, val_oh.shape, val_target.shape)"
      ],
      "execution_count": 24,
      "outputs": [
        {
          "output_type": "stream",
          "name": "stdout",
          "text": [
            "(20000, 100, 500) (20000,) (5000, 100, 500) (5000,)\n"
          ]
        }
      ]
    },
    {
      "cell_type": "code",
      "metadata": {
        "colab": {
          "base_uri": "https://localhost:8080/"
        },
        "id": "ABc1cfWZKCPq",
        "outputId": "8e072eaa-86a2-40e1-b440-29e5fabd49c6"
      },
      "source": [
        "print(train_target[0], val_target[0])"
      ],
      "execution_count": 25,
      "outputs": [
        {
          "output_type": "stream",
          "name": "stdout",
          "text": [
            "0 0\n"
          ]
        }
      ]
    },
    {
      "cell_type": "code",
      "metadata": {
        "colab": {
          "base_uri": "https://localhost:8080/"
        },
        "id": "SnZsSsMkDaBl",
        "outputId": "0abee171-0e78-4722-a7f7-8a7475b2e8e4"
      },
      "source": [
        "model.summary()"
      ],
      "execution_count": 26,
      "outputs": [
        {
          "output_type": "stream",
          "name": "stdout",
          "text": [
            "Model: \"sequential\"\n",
            "_________________________________________________________________\n",
            "Layer (type)                 Output Shape              Param #   \n",
            "=================================================================\n",
            "simple_rnn (SimpleRNN)       (None, 8)                 4072      \n",
            "_________________________________________________________________\n",
            "dense (Dense)                (None, 1)                 9         \n",
            "=================================================================\n",
            "Total params: 4,081\n",
            "Trainable params: 4,081\n",
            "Non-trainable params: 0\n",
            "_________________________________________________________________\n"
          ]
        }
      ]
    },
    {
      "cell_type": "code",
      "metadata": {
        "colab": {
          "base_uri": "https://localhost:8080/"
        },
        "id": "vHvQljm-DjXu",
        "outputId": "511b4e1b-8785-4eb8-b736-d5af8949072d"
      },
      "source": [
        "rmsprop = keras.optimizers.RMSprop(learning_rate=1e-4)\n",
        "model.compile(optimizer=rmsprop, loss='binary_crossentropy', metrics='accuracy')\n",
        "checkpoint_cb = keras.callbacks.ModelCheckpoint('best-simplernn-model.h5')\n",
        "early_stopping_cb = keras.callbacks.EarlyStopping(patience=3, restore_best_weights=True)\n",
        "history = model.fit(train_oh, train_target, epochs=100, batch_size=64, validation_data=(val_oh, val_target), callbacks=[checkpoint_cb, early_stopping_cb])"
      ],
      "execution_count": 27,
      "outputs": [
        {
          "output_type": "stream",
          "name": "stdout",
          "text": [
            "Epoch 1/100\n",
            "313/313 [==============================] - 37s 108ms/step - loss: 0.6991 - accuracy: 0.5034 - val_loss: 0.6998 - val_accuracy: 0.5008\n",
            "Epoch 2/100\n",
            "313/313 [==============================] - 32s 103ms/step - loss: 0.6957 - accuracy: 0.5130 - val_loss: 0.6972 - val_accuracy: 0.5048\n",
            "Epoch 3/100\n",
            "313/313 [==============================] - 32s 102ms/step - loss: 0.6932 - accuracy: 0.5199 - val_loss: 0.6953 - val_accuracy: 0.5102\n",
            "Epoch 4/100\n",
            "313/313 [==============================] - 32s 102ms/step - loss: 0.6911 - accuracy: 0.5263 - val_loss: 0.6938 - val_accuracy: 0.5132\n",
            "Epoch 5/100\n",
            "313/313 [==============================] - 33s 104ms/step - loss: 0.6893 - accuracy: 0.5365 - val_loss: 0.6925 - val_accuracy: 0.5182\n",
            "Epoch 6/100\n",
            "313/313 [==============================] - 33s 104ms/step - loss: 0.6876 - accuracy: 0.5453 - val_loss: 0.6914 - val_accuracy: 0.5200\n",
            "Epoch 7/100\n",
            "313/313 [==============================] - 32s 103ms/step - loss: 0.6859 - accuracy: 0.5524 - val_loss: 0.6903 - val_accuracy: 0.5214\n",
            "Epoch 8/100\n",
            "313/313 [==============================] - 32s 103ms/step - loss: 0.6841 - accuracy: 0.5591 - val_loss: 0.6891 - val_accuracy: 0.5290\n",
            "Epoch 9/100\n",
            "313/313 [==============================] - 33s 104ms/step - loss: 0.6822 - accuracy: 0.5646 - val_loss: 0.6878 - val_accuracy: 0.5354\n",
            "Epoch 10/100\n",
            "313/313 [==============================] - 32s 104ms/step - loss: 0.6800 - accuracy: 0.5719 - val_loss: 0.6862 - val_accuracy: 0.5418\n",
            "Epoch 11/100\n",
            "313/313 [==============================] - 32s 103ms/step - loss: 0.6773 - accuracy: 0.5816 - val_loss: 0.6843 - val_accuracy: 0.5470\n",
            "Epoch 12/100\n",
            "313/313 [==============================] - 33s 105ms/step - loss: 0.6738 - accuracy: 0.5900 - val_loss: 0.6808 - val_accuracy: 0.5536\n",
            "Epoch 13/100\n",
            "313/313 [==============================] - 33s 104ms/step - loss: 0.6657 - accuracy: 0.6118 - val_loss: 0.6653 - val_accuracy: 0.6036\n",
            "Epoch 14/100\n",
            "313/313 [==============================] - 33s 104ms/step - loss: 0.6382 - accuracy: 0.6583 - val_loss: 0.6375 - val_accuracy: 0.6624\n",
            "Epoch 15/100\n",
            "313/313 [==============================] - 33s 105ms/step - loss: 0.6200 - accuracy: 0.6798 - val_loss: 0.6228 - val_accuracy: 0.6832\n",
            "Epoch 16/100\n",
            "313/313 [==============================] - 33s 105ms/step - loss: 0.6038 - accuracy: 0.6970 - val_loss: 0.6109 - val_accuracy: 0.6858\n",
            "Epoch 17/100\n",
            "313/313 [==============================] - 32s 103ms/step - loss: 0.5890 - accuracy: 0.7096 - val_loss: 0.5955 - val_accuracy: 0.7052\n",
            "Epoch 18/100\n",
            "313/313 [==============================] - 33s 105ms/step - loss: 0.5750 - accuracy: 0.7218 - val_loss: 0.5821 - val_accuracy: 0.7134\n",
            "Epoch 19/100\n",
            "313/313 [==============================] - 33s 105ms/step - loss: 0.5626 - accuracy: 0.7326 - val_loss: 0.5729 - val_accuracy: 0.7192\n",
            "Epoch 20/100\n",
            "313/313 [==============================] - 32s 104ms/step - loss: 0.5495 - accuracy: 0.7412 - val_loss: 0.5616 - val_accuracy: 0.7290\n",
            "Epoch 21/100\n",
            "313/313 [==============================] - 33s 104ms/step - loss: 0.5380 - accuracy: 0.7489 - val_loss: 0.5521 - val_accuracy: 0.7328\n",
            "Epoch 22/100\n",
            "313/313 [==============================] - 32s 103ms/step - loss: 0.5278 - accuracy: 0.7548 - val_loss: 0.5463 - val_accuracy: 0.7362\n",
            "Epoch 23/100\n",
            "313/313 [==============================] - 32s 103ms/step - loss: 0.5181 - accuracy: 0.7618 - val_loss: 0.5356 - val_accuracy: 0.7454\n",
            "Epoch 24/100\n",
            "313/313 [==============================] - 33s 104ms/step - loss: 0.5089 - accuracy: 0.7666 - val_loss: 0.5286 - val_accuracy: 0.7496\n",
            "Epoch 25/100\n",
            "313/313 [==============================] - 33s 105ms/step - loss: 0.5003 - accuracy: 0.7728 - val_loss: 0.5240 - val_accuracy: 0.7486\n",
            "Epoch 26/100\n",
            "313/313 [==============================] - 32s 103ms/step - loss: 0.4935 - accuracy: 0.7772 - val_loss: 0.5174 - val_accuracy: 0.7544\n",
            "Epoch 27/100\n",
            "313/313 [==============================] - 33s 105ms/step - loss: 0.4875 - accuracy: 0.7790 - val_loss: 0.5115 - val_accuracy: 0.7572\n",
            "Epoch 28/100\n",
            "313/313 [==============================] - 34s 108ms/step - loss: 0.4819 - accuracy: 0.7821 - val_loss: 0.5087 - val_accuracy: 0.7606\n",
            "Epoch 29/100\n",
            "313/313 [==============================] - 33s 105ms/step - loss: 0.4767 - accuracy: 0.7861 - val_loss: 0.5038 - val_accuracy: 0.7650\n",
            "Epoch 30/100\n",
            "313/313 [==============================] - 33s 104ms/step - loss: 0.4714 - accuracy: 0.7884 - val_loss: 0.5008 - val_accuracy: 0.7656\n",
            "Epoch 31/100\n",
            "313/313 [==============================] - 33s 105ms/step - loss: 0.4668 - accuracy: 0.7920 - val_loss: 0.4964 - val_accuracy: 0.7704\n",
            "Epoch 32/100\n",
            "313/313 [==============================] - 33s 105ms/step - loss: 0.4633 - accuracy: 0.7934 - val_loss: 0.4931 - val_accuracy: 0.7692\n",
            "Epoch 33/100\n",
            "313/313 [==============================] - 32s 103ms/step - loss: 0.4591 - accuracy: 0.7965 - val_loss: 0.4911 - val_accuracy: 0.7716\n",
            "Epoch 34/100\n",
            "313/313 [==============================] - 33s 106ms/step - loss: 0.4557 - accuracy: 0.7966 - val_loss: 0.4907 - val_accuracy: 0.7730\n",
            "Epoch 35/100\n",
            "313/313 [==============================] - 33s 104ms/step - loss: 0.4526 - accuracy: 0.7983 - val_loss: 0.4859 - val_accuracy: 0.7744\n",
            "Epoch 36/100\n",
            "313/313 [==============================] - 33s 104ms/step - loss: 0.4492 - accuracy: 0.8009 - val_loss: 0.4849 - val_accuracy: 0.7758\n",
            "Epoch 37/100\n",
            "313/313 [==============================] - 33s 105ms/step - loss: 0.4459 - accuracy: 0.8022 - val_loss: 0.4828 - val_accuracy: 0.7750\n",
            "Epoch 38/100\n",
            "313/313 [==============================] - 33s 104ms/step - loss: 0.4431 - accuracy: 0.8037 - val_loss: 0.4810 - val_accuracy: 0.7736\n",
            "Epoch 39/100\n",
            "313/313 [==============================] - 32s 104ms/step - loss: 0.4403 - accuracy: 0.8055 - val_loss: 0.4776 - val_accuracy: 0.7770\n",
            "Epoch 40/100\n",
            "313/313 [==============================] - 32s 104ms/step - loss: 0.4380 - accuracy: 0.8074 - val_loss: 0.4774 - val_accuracy: 0.7774\n",
            "Epoch 41/100\n",
            "313/313 [==============================] - 33s 104ms/step - loss: 0.4348 - accuracy: 0.8098 - val_loss: 0.4758 - val_accuracy: 0.7772\n",
            "Epoch 42/100\n",
            "313/313 [==============================] - 33s 104ms/step - loss: 0.4331 - accuracy: 0.8090 - val_loss: 0.4741 - val_accuracy: 0.7812\n",
            "Epoch 43/100\n",
            "313/313 [==============================] - 33s 104ms/step - loss: 0.4312 - accuracy: 0.8114 - val_loss: 0.4735 - val_accuracy: 0.7824\n",
            "Epoch 44/100\n",
            "313/313 [==============================] - 34s 109ms/step - loss: 0.4281 - accuracy: 0.8141 - val_loss: 0.4731 - val_accuracy: 0.7806\n",
            "Epoch 45/100\n",
            "313/313 [==============================] - 33s 104ms/step - loss: 0.4260 - accuracy: 0.8137 - val_loss: 0.4711 - val_accuracy: 0.7834\n",
            "Epoch 46/100\n",
            "313/313 [==============================] - 33s 104ms/step - loss: 0.4238 - accuracy: 0.8169 - val_loss: 0.4692 - val_accuracy: 0.7848\n",
            "Epoch 47/100\n",
            "313/313 [==============================] - 32s 104ms/step - loss: 0.4223 - accuracy: 0.8155 - val_loss: 0.4723 - val_accuracy: 0.7800\n",
            "Epoch 48/100\n",
            "313/313 [==============================] - 33s 104ms/step - loss: 0.4201 - accuracy: 0.8176 - val_loss: 0.4700 - val_accuracy: 0.7842\n",
            "Epoch 49/100\n",
            "313/313 [==============================] - 32s 102ms/step - loss: 0.4181 - accuracy: 0.8182 - val_loss: 0.4694 - val_accuracy: 0.7834\n"
          ]
        }
      ]
    },
    {
      "cell_type": "code",
      "metadata": {
        "colab": {
          "base_uri": "https://localhost:8080/",
          "height": 279
        },
        "id": "IOkOt96xHPkW",
        "outputId": "35948391-ca30-421c-e8bc-3d01fb01a1f7"
      },
      "source": [
        "plt.plot(history.history['loss'])\n",
        "plt.plot(history.history['val_loss'])\n",
        "plt.xlabel('epochs')\n",
        "plt.ylabel('loss')\n",
        "plt.legend(['train', 'val'])\n",
        "plt.show()"
      ],
      "execution_count": 30,
      "outputs": [
        {
          "output_type": "display_data",
          "data": {
            "image/png": "[encoded data removed]",
            "text/plain": [
              "<Figure size 432x288 with 1 Axes>"
            ]
          },
          "metadata": {
            "needs_background": "light"
          }
        }
      ]
    },
    {
      "cell_type": "code",
      "metadata": {
        "colab": {
          "base_uri": "https://localhost:8080/"
        },
        "id": "MSw-6eDsMqgY",
        "outputId": "97b396ff-c797-4759-ae25-29f3bc83aded"
      },
      "source": [
        "print(train_seq.nbytes, train_oh.nbytes)"
      ],
      "execution_count": 31,
      "outputs": [
        {
          "output_type": "stream",
          "name": "stdout",
          "text": [
            "8000000 4000000000\n"
          ]
        }
      ]
    },
    {
      "cell_type": "code",
      "metadata": {
        "id": "W-bTaEuMNuDl"
      },
      "source": [
        "model2 = keras.Sequential()\n",
        "model2.add(keras.layers.Embedding(500, 16, input_length=100))\n",
        "model2.add(keras.layers.SimpleRNN(8))\n",
        "model2.add(keras.layers.Dense(1, activation='sigmoid'))"
      ],
      "execution_count": 32,
      "outputs": []
    },
    {
      "cell_type": "code",
      "metadata": {
        "colab": {
          "base_uri": "https://localhost:8080/"
        },
        "id": "850FJKKgPNA2",
        "outputId": "d8ecf610-709a-4efd-a1e9-0b6e03c4689a"
      },
      "source": [
        "model2.summary()"
      ],
      "execution_count": 33,
      "outputs": [
        {
          "output_type": "stream",
          "name": "stdout",
          "text": [
            "Model: \"sequential_2\"\n",
            "_________________________________________________________________\n",
            "Layer (type)                 Output Shape              Param #   \n",
            "=================================================================\n",
            "embedding (Embedding)        (None, 100, 16)           8000      \n",
            "_________________________________________________________________\n",
            "simple_rnn_1 (SimpleRNN)     (None, 8)                 200       \n",
            "_________________________________________________________________\n",
            "dense_1 (Dense)              (None, 1)                 9         \n",
            "=================================================================\n",
            "Total params: 8,209\n",
            "Trainable params: 8,209\n",
            "Non-trainable params: 0\n",
            "_________________________________________________________________\n"
          ]
        }
      ]
    },
    {
      "cell_type": "code",
      "metadata": {
        "colab": {
          "base_uri": "https://localhost:8080/",
          "height": 422
        },
        "id": "EDTpgs4QQEZA",
        "outputId": "34e62ca4-01b7-413f-b5d4-f470c3a41d13"
      },
      "source": [
        "keras.utils.plot_model(model2, show_shapes=True)"
      ],
      "execution_count": 34,
      "outputs": [
        {
          "output_type": "execute_result",
          "data": {
            "image/png": "[encoded data removed]",
            "text/plain": [
              "<IPython.core.display.Image object>"
            ]
          },
          "metadata": {},
          "execution_count": 34
        }
      ]
    },
    {
      "cell_type": "code",
      "metadata": {
        "colab": {
          "base_uri": "https://localhost:8080/"
        },
        "id": "jgxKc9izQKcA",
        "outputId": "fc3286d5-7abc-4692-bf0d-879cb1a6b0f2"
      },
      "source": [
        "rmsprop = keras.optimizers.RMSprop(learning_rate=1e-4)\n",
        "model2.compile(optimizer=rmsprop, loss='binary_crossentropy', metrics='accuracy')\n",
        "checkpoint_cb = keras.callbacks.ModelCheckpoint('best-embedding-model.h5')\n",
        "early_stopping_cb = keras.callbacks.EarlyStopping(patience=3, restore_best_weights=True)\n",
        "history = model2.fit(train_seq, train_target, epochs=100, batch_size=64, validation_data=(val_seq, val_target), callbacks=[checkpoint_cb, early_stopping_cb])"
      ],
      "execution_count": 35,
      "outputs": [
        {
          "output_type": "stream",
          "name": "stdout",
          "text": [
            "Epoch 1/100\n",
            "313/313 [==============================] - 42s 132ms/step - loss: 0.6884 - accuracy: 0.5433 - val_loss: 0.6753 - val_accuracy: 0.6066\n",
            "Epoch 2/100\n",
            "313/313 [==============================] - 41s 129ms/step - loss: 0.6674 - accuracy: 0.6263 - val_loss: 0.6583 - val_accuracy: 0.6582\n",
            "Epoch 3/100\n",
            "313/313 [==============================] - 40s 129ms/step - loss: 0.6440 - accuracy: 0.6822 - val_loss: 0.6344 - val_accuracy: 0.6926\n",
            "Epoch 4/100\n",
            "313/313 [==============================] - 41s 130ms/step - loss: 0.6197 - accuracy: 0.7159 - val_loss: 0.6166 - val_accuracy: 0.7066\n",
            "Epoch 5/100\n",
            "313/313 [==============================] - 41s 130ms/step - loss: 0.5976 - accuracy: 0.7367 - val_loss: 0.5942 - val_accuracy: 0.7382\n",
            "Epoch 6/100\n",
            "313/313 [==============================] - 41s 131ms/step - loss: 0.5781 - accuracy: 0.7508 - val_loss: 0.5781 - val_accuracy: 0.7378\n",
            "Epoch 7/100\n",
            "313/313 [==============================] - 41s 130ms/step - loss: 0.5598 - accuracy: 0.7613 - val_loss: 0.5646 - val_accuracy: 0.7452\n",
            "Epoch 8/100\n",
            "313/313 [==============================] - 41s 130ms/step - loss: 0.5442 - accuracy: 0.7685 - val_loss: 0.5489 - val_accuracy: 0.7570\n",
            "Epoch 9/100\n",
            "313/313 [==============================] - 41s 130ms/step - loss: 0.5302 - accuracy: 0.7755 - val_loss: 0.5361 - val_accuracy: 0.7636\n",
            "Epoch 10/100\n",
            "313/313 [==============================] - 40s 129ms/step - loss: 0.5167 - accuracy: 0.7836 - val_loss: 0.5293 - val_accuracy: 0.7610\n",
            "Epoch 11/100\n",
            "313/313 [==============================] - 41s 130ms/step - loss: 0.5042 - accuracy: 0.7901 - val_loss: 0.5174 - val_accuracy: 0.7666\n",
            "Epoch 12/100\n",
            "313/313 [==============================] - 41s 131ms/step - loss: 0.4933 - accuracy: 0.7946 - val_loss: 0.5105 - val_accuracy: 0.7694\n",
            "Epoch 13/100\n",
            "313/313 [==============================] - 41s 130ms/step - loss: 0.4825 - accuracy: 0.7982 - val_loss: 0.4995 - val_accuracy: 0.7768\n",
            "Epoch 14/100\n",
            "313/313 [==============================] - 41s 130ms/step - loss: 0.4732 - accuracy: 0.8018 - val_loss: 0.4929 - val_accuracy: 0.7746\n",
            "Epoch 15/100\n",
            "313/313 [==============================] - 41s 131ms/step - loss: 0.4650 - accuracy: 0.8037 - val_loss: 0.4932 - val_accuracy: 0.7758\n",
            "Epoch 16/100\n",
            "313/313 [==============================] - 41s 130ms/step - loss: 0.4566 - accuracy: 0.8087 - val_loss: 0.4794 - val_accuracy: 0.7870\n",
            "Epoch 17/100\n",
            "313/313 [==============================] - 41s 130ms/step - loss: 0.4495 - accuracy: 0.8105 - val_loss: 0.4776 - val_accuracy: 0.7844\n",
            "Epoch 18/100\n",
            "313/313 [==============================] - 41s 130ms/step - loss: 0.4430 - accuracy: 0.8123 - val_loss: 0.4718 - val_accuracy: 0.7880\n",
            "Epoch 19/100\n",
            "313/313 [==============================] - 41s 130ms/step - loss: 0.4369 - accuracy: 0.8141 - val_loss: 0.4698 - val_accuracy: 0.7890\n",
            "Epoch 20/100\n",
            "313/313 [==============================] - 41s 131ms/step - loss: 0.4317 - accuracy: 0.8157 - val_loss: 0.4644 - val_accuracy: 0.7928\n",
            "Epoch 21/100\n",
            "313/313 [==============================] - 41s 129ms/step - loss: 0.4274 - accuracy: 0.8177 - val_loss: 0.4615 - val_accuracy: 0.7922\n",
            "Epoch 22/100\n",
            "313/313 [==============================] - 40s 129ms/step - loss: 0.4230 - accuracy: 0.8193 - val_loss: 0.4610 - val_accuracy: 0.7920\n",
            "Epoch 23/100\n",
            "313/313 [==============================] - 41s 130ms/step - loss: 0.4189 - accuracy: 0.8207 - val_loss: 0.4585 - val_accuracy: 0.7928\n",
            "Epoch 24/100\n",
            "313/313 [==============================] - 41s 131ms/step - loss: 0.4152 - accuracy: 0.8224 - val_loss: 0.4589 - val_accuracy: 0.7932\n",
            "Epoch 25/100\n",
            "313/313 [==============================] - 41s 131ms/step - loss: 0.4128 - accuracy: 0.8231 - val_loss: 0.4555 - val_accuracy: 0.7940\n",
            "Epoch 26/100\n",
            "313/313 [==============================] - 41s 131ms/step - loss: 0.4097 - accuracy: 0.8229 - val_loss: 0.4526 - val_accuracy: 0.7904\n",
            "Epoch 27/100\n",
            "313/313 [==============================] - 41s 131ms/step - loss: 0.4071 - accuracy: 0.8249 - val_loss: 0.4521 - val_accuracy: 0.7922\n",
            "Epoch 28/100\n",
            "313/313 [==============================] - 41s 131ms/step - loss: 0.4042 - accuracy: 0.8242 - val_loss: 0.4549 - val_accuracy: 0.7912\n",
            "Epoch 29/100\n",
            "313/313 [==============================] - 40s 129ms/step - loss: 0.4026 - accuracy: 0.8265 - val_loss: 0.4522 - val_accuracy: 0.7898\n",
            "Epoch 30/100\n",
            "313/313 [==============================] - 41s 131ms/step - loss: 0.4001 - accuracy: 0.8274 - val_loss: 0.4514 - val_accuracy: 0.7922\n",
            "Epoch 31/100\n",
            "313/313 [==============================] - 41s 132ms/step - loss: 0.3984 - accuracy: 0.8274 - val_loss: 0.4512 - val_accuracy: 0.7880\n",
            "Epoch 32/100\n",
            "313/313 [==============================] - 41s 131ms/step - loss: 0.3956 - accuracy: 0.8307 - val_loss: 0.4513 - val_accuracy: 0.7898\n",
            "Epoch 33/100\n",
            "313/313 [==============================] - 41s 132ms/step - loss: 0.3939 - accuracy: 0.8291 - val_loss: 0.4510 - val_accuracy: 0.7910\n",
            "Epoch 34/100\n",
            "313/313 [==============================] - 41s 131ms/step - loss: 0.3924 - accuracy: 0.8303 - val_loss: 0.4522 - val_accuracy: 0.7908\n",
            "Epoch 35/100\n",
            "313/313 [==============================] - 41s 129ms/step - loss: 0.3905 - accuracy: 0.8316 - val_loss: 0.4527 - val_accuracy: 0.7910\n",
            "Epoch 36/100\n",
            "313/313 [==============================] - 41s 131ms/step - loss: 0.3894 - accuracy: 0.8325 - val_loss: 0.4601 - val_accuracy: 0.7912\n"
          ]
        }
      ]
    },
    {
      "cell_type": "code",
      "metadata": {
        "colab": {
          "base_uri": "https://localhost:8080/",
          "height": 281
        },
        "id": "WcHze28fTdLq",
        "outputId": "6af47f8f-ef9a-40e1-9321-b36048360fd8"
      },
      "source": [
        "plt.plot(history.history['loss'])\n",
        "plt.plot(history.history['val_loss'])\n",
        "plt.xlabel('epoch')\n",
        "plt.ylabel('loss')\n",
        "plt.legend(['train', 'val'])\n",
        "plt.show()"
      ],
      "execution_count": 36,
      "outputs": [
        {
          "output_type": "display_data",
          "data": {
            "image/png": "[encoded data removed]",
            "text/plain": [
              "<Figure size 432x288 with 1 Axes>"
            ]
          },
          "metadata": {
            "needs_background": "light"
          }
        }
      ]
    },
    {
      "cell_type": "code",
      "metadata": {
        "colab": {
          "base_uri": "https://localhost:8080/"
        },
        "id": "l5gUwstwT1In",
        "outputId": "e5426ba0-bb69-4642-c453-748752930cf0"
      },
      "source": [
        "model2.layers"
      ],
      "execution_count": 37,
      "outputs": [
        {
          "output_type": "execute_result",
          "data": {
            "text/plain": [
              "[<keras.layers.embeddings.Embedding at 0x7fb4f66ca890>,\n",
              " <keras.layers.recurrent.SimpleRNN at 0x7fb4f5aa05d0>,\n",
              " <keras.layers.core.Dense at 0x7fb4f80d9f90>]"
            ]
          },
          "metadata": {},
          "execution_count": 37
        }
      ]
    },
    {
      "cell_type": "code",
      "metadata": {
        "id": "osbmufitVgMu"
      },
      "source": [
        ""
      ],
      "execution_count": null,
      "outputs": []
    }
  ]
}