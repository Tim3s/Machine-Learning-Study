{
  "nbformat": 4,
  "nbformat_minor": 0,
  "metadata": {
    "accelerator": "GPU",
    "colab": {
      "name": "9-3 LSTM and GRU Cell",
      "provenance": [],
      "mount_file_id": "1tsdfuddzpzpwJPq4HnAaNuvvVBJkeZGW",
      "authorship_tag": "ABX9TyO08rQh+ahMwOnS5nPlneQb",
      "include_colab_link": true
    },
    "kernelspec": {
      "display_name": "Python 3",
      "name": "python3"
    },
    "language_info": {
      "name": "python"
    }
  },
  "cells": [
    {
      "cell_type": "markdown",
      "metadata": {
        "id": "view-in-github",
        "colab_type": "text"
      },
      "source": [
        "<a href=\"https://colab.research.google.com/github/Tim3s/Machine-Learning-Study/blob/main/9-3%20LSTM%20and%20GRU%20Cell.ipynb\" target=\"_parent\"><img src=\"https://colab.research.google.com/assets/colab-badge.svg\" alt=\"Open In Colab\"/></a>"
      ]
    },
    {
      "cell_type": "code",
      "metadata": {
        "colab": {
          "base_uri": "https://localhost:8080/"
        },
        "id": "wgM0c8KfcHUp",
        "outputId": "ad3ca674-1f4c-4a73-fad3-dec33833da36"
      },
      "source": [
        "from tensorflow import keras\n",
        "from sklearn.model_selection import train_test_split\n",
        "(train_input, train_target), (test_input, test_target) = keras.datasets.imdb.load_data(num_words=500)\n",
        "train_input, val_input, train_target, val_target = train_test_split(train_input, train_target, test_size=0.2, random_state=42)"
      ],
      "execution_count": 1,
      "outputs": [
        {
          "output_type": "stream",
          "name": "stdout",
          "text": [
            "Downloading data from https://storage.googleapis.com/tensorflow/tf-keras-datasets/imdb.npz\n",
            "17465344/17464789 [==============================] - 0s 0us/step\n",
            "17473536/17464789 [==============================] - 0s 0us/step\n"
          ]
        }
      ]
    },
    {
      "cell_type": "code",
      "metadata": {
        "id": "nP0W13DRoZrr"
      },
      "source": [
        "from tensorflow.keras.preprocessing.sequence import pad_sequences\n",
        "train_seq = pad_sequences(train_input, maxlen=100)\n",
        "val_seq = pad_sequences(val_input, maxlen=100)"
      ],
      "execution_count": 2,
      "outputs": []
    },
    {
      "cell_type": "code",
      "metadata": {
        "id": "07jundU7oruE"
      },
      "source": [
        "model = keras.Sequential()\n",
        "model.add(keras.layers.Embedding(500, 16, input_length=100))\n",
        "model.add(keras.layers.LSTM(8))\n",
        "model.add(keras.layers.Dense(1, activation='sigmoid'))"
      ],
      "execution_count": 3,
      "outputs": []
    },
    {
      "cell_type": "code",
      "metadata": {
        "colab": {
          "base_uri": "https://localhost:8080/"
        },
        "id": "sUNXxWqhpRJJ",
        "outputId": "af17c99c-7d8b-4d93-852e-05d9f348d65c"
      },
      "source": [
        "model.summary()"
      ],
      "execution_count": 4,
      "outputs": [
        {
          "output_type": "stream",
          "name": "stdout",
          "text": [
            "Model: \"sequential\"\n",
            "_________________________________________________________________\n",
            "Layer (type)                 Output Shape              Param #   \n",
            "=================================================================\n",
            "embedding (Embedding)        (None, 100, 16)           8000      \n",
            "_________________________________________________________________\n",
            "lstm (LSTM)                  (None, 8)                 800       \n",
            "_________________________________________________________________\n",
            "dense (Dense)                (None, 1)                 9         \n",
            "=================================================================\n",
            "Total params: 8,809\n",
            "Trainable params: 8,809\n",
            "Non-trainable params: 0\n",
            "_________________________________________________________________\n"
          ]
        }
      ]
    },
    {
      "cell_type": "code",
      "metadata": {
        "colab": {
          "base_uri": "https://localhost:8080/"
        },
        "id": "QUDSs1wUpSax",
        "outputId": "7c8df6f6-7b46-4c3a-b7ad-dfdb0a2dc73d"
      },
      "source": [
        "rmsprop = keras.optimizers.RMSprop(learning_rate=1e-4)\n",
        "model.compile(optimizer=rmsprop, loss='binary_crossentropy', metrics='accuracy')\n",
        "checkpoint_cb = keras.callbacks.ModelCheckpoint('best-lstm-model.h5')\n",
        "early_stopping_cb = keras.callbacks.EarlyStopping(patience=3, restore_best_weights=True)\n",
        "history = model.fit(train_seq, train_target, epochs=100, batch_size=64, validation_data=(val_seq, val_target), callbacks=[checkpoint_cb, early_stopping_cb])"
      ],
      "execution_count": 5,
      "outputs": [
        {
          "output_type": "stream",
          "name": "stdout",
          "text": [
            "Epoch 1/100\n",
            "313/313 [==============================] - 14s 21ms/step - loss: 0.6919 - accuracy: 0.5585 - val_loss: 0.6903 - val_accuracy: 0.6032\n",
            "Epoch 2/100\n",
            "313/313 [==============================] - 6s 19ms/step - loss: 0.6873 - accuracy: 0.6260 - val_loss: 0.6829 - val_accuracy: 0.6562\n",
            "Epoch 3/100\n",
            "313/313 [==============================] - 6s 20ms/step - loss: 0.6673 - accuracy: 0.6561 - val_loss: 0.6373 - val_accuracy: 0.6844\n",
            "Epoch 4/100\n",
            "313/313 [==============================] - 6s 20ms/step - loss: 0.6096 - accuracy: 0.7212 - val_loss: 0.5909 - val_accuracy: 0.7340\n",
            "Epoch 5/100\n",
            "313/313 [==============================] - 6s 19ms/step - loss: 0.5794 - accuracy: 0.7447 - val_loss: 0.5704 - val_accuracy: 0.7422\n",
            "Epoch 6/100\n",
            "313/313 [==============================] - 6s 19ms/step - loss: 0.5580 - accuracy: 0.7562 - val_loss: 0.5525 - val_accuracy: 0.7550\n",
            "Epoch 7/100\n",
            "313/313 [==============================] - 6s 19ms/step - loss: 0.5374 - accuracy: 0.7663 - val_loss: 0.5330 - val_accuracy: 0.7626\n",
            "Epoch 8/100\n",
            "313/313 [==============================] - 6s 19ms/step - loss: 0.5171 - accuracy: 0.7724 - val_loss: 0.5139 - val_accuracy: 0.7686\n",
            "Epoch 9/100\n",
            "313/313 [==============================] - 6s 19ms/step - loss: 0.4988 - accuracy: 0.7794 - val_loss: 0.4992 - val_accuracy: 0.7722\n",
            "Epoch 10/100\n",
            "313/313 [==============================] - 6s 19ms/step - loss: 0.4841 - accuracy: 0.7836 - val_loss: 0.4882 - val_accuracy: 0.7754\n",
            "Epoch 11/100\n",
            "313/313 [==============================] - 6s 20ms/step - loss: 0.4723 - accuracy: 0.7881 - val_loss: 0.4797 - val_accuracy: 0.7770\n",
            "Epoch 12/100\n",
            "313/313 [==============================] - 6s 19ms/step - loss: 0.4628 - accuracy: 0.7936 - val_loss: 0.4722 - val_accuracy: 0.7836\n",
            "Epoch 13/100\n",
            "313/313 [==============================] - 6s 20ms/step - loss: 0.4550 - accuracy: 0.7964 - val_loss: 0.4671 - val_accuracy: 0.7814\n",
            "Epoch 14/100\n",
            "313/313 [==============================] - 6s 20ms/step - loss: 0.4483 - accuracy: 0.8014 - val_loss: 0.4633 - val_accuracy: 0.7824\n",
            "Epoch 15/100\n",
            "313/313 [==============================] - 6s 20ms/step - loss: 0.4431 - accuracy: 0.8022 - val_loss: 0.4579 - val_accuracy: 0.7888\n",
            "Epoch 16/100\n",
            "313/313 [==============================] - 6s 20ms/step - loss: 0.4381 - accuracy: 0.8072 - val_loss: 0.4530 - val_accuracy: 0.7888\n",
            "Epoch 17/100\n",
            "313/313 [==============================] - 6s 20ms/step - loss: 0.4342 - accuracy: 0.8068 - val_loss: 0.4501 - val_accuracy: 0.7894\n",
            "Epoch 18/100\n",
            "313/313 [==============================] - 6s 20ms/step - loss: 0.4310 - accuracy: 0.8090 - val_loss: 0.4555 - val_accuracy: 0.7880\n",
            "Epoch 19/100\n",
            "313/313 [==============================] - 6s 20ms/step - loss: 0.4276 - accuracy: 0.8090 - val_loss: 0.4478 - val_accuracy: 0.7926\n",
            "Epoch 20/100\n",
            "313/313 [==============================] - 6s 19ms/step - loss: 0.4254 - accuracy: 0.8116 - val_loss: 0.4445 - val_accuracy: 0.7900\n",
            "Epoch 21/100\n",
            "313/313 [==============================] - 6s 19ms/step - loss: 0.4227 - accuracy: 0.8121 - val_loss: 0.4421 - val_accuracy: 0.7930\n",
            "Epoch 22/100\n",
            "313/313 [==============================] - 6s 20ms/step - loss: 0.4205 - accuracy: 0.8108 - val_loss: 0.4427 - val_accuracy: 0.7928\n",
            "Epoch 23/100\n",
            "313/313 [==============================] - 6s 19ms/step - loss: 0.4187 - accuracy: 0.8132 - val_loss: 0.4385 - val_accuracy: 0.7976\n",
            "Epoch 24/100\n",
            "313/313 [==============================] - 6s 19ms/step - loss: 0.4176 - accuracy: 0.8138 - val_loss: 0.4391 - val_accuracy: 0.7960\n",
            "Epoch 25/100\n",
            "313/313 [==============================] - 6s 20ms/step - loss: 0.4160 - accuracy: 0.8138 - val_loss: 0.4374 - val_accuracy: 0.8004\n",
            "Epoch 26/100\n",
            "313/313 [==============================] - 6s 19ms/step - loss: 0.4146 - accuracy: 0.8144 - val_loss: 0.4364 - val_accuracy: 0.7984\n",
            "Epoch 27/100\n",
            "313/313 [==============================] - 6s 19ms/step - loss: 0.4137 - accuracy: 0.8154 - val_loss: 0.4359 - val_accuracy: 0.8008\n",
            "Epoch 28/100\n",
            "313/313 [==============================] - 6s 19ms/step - loss: 0.4120 - accuracy: 0.8163 - val_loss: 0.4341 - val_accuracy: 0.7978\n",
            "Epoch 29/100\n",
            "313/313 [==============================] - 6s 20ms/step - loss: 0.4114 - accuracy: 0.8160 - val_loss: 0.4329 - val_accuracy: 0.7988\n",
            "Epoch 30/100\n",
            "313/313 [==============================] - 6s 19ms/step - loss: 0.4104 - accuracy: 0.8164 - val_loss: 0.4332 - val_accuracy: 0.8010\n",
            "Epoch 31/100\n",
            "313/313 [==============================] - 6s 20ms/step - loss: 0.4092 - accuracy: 0.8163 - val_loss: 0.4328 - val_accuracy: 0.8014\n",
            "Epoch 32/100\n",
            "313/313 [==============================] - 6s 20ms/step - loss: 0.4089 - accuracy: 0.8171 - val_loss: 0.4321 - val_accuracy: 0.7990\n",
            "Epoch 33/100\n",
            "313/313 [==============================] - 6s 20ms/step - loss: 0.4076 - accuracy: 0.8173 - val_loss: 0.4317 - val_accuracy: 0.8024\n",
            "Epoch 34/100\n",
            "313/313 [==============================] - 6s 20ms/step - loss: 0.4072 - accuracy: 0.8156 - val_loss: 0.4322 - val_accuracy: 0.8026\n",
            "Epoch 35/100\n",
            "313/313 [==============================] - 6s 19ms/step - loss: 0.4062 - accuracy: 0.8152 - val_loss: 0.4309 - val_accuracy: 0.8030\n",
            "Epoch 36/100\n",
            "313/313 [==============================] - 6s 19ms/step - loss: 0.4058 - accuracy: 0.8173 - val_loss: 0.4303 - val_accuracy: 0.7988\n",
            "Epoch 37/100\n",
            "313/313 [==============================] - 6s 20ms/step - loss: 0.4054 - accuracy: 0.8170 - val_loss: 0.4311 - val_accuracy: 0.8034\n",
            "Epoch 38/100\n",
            "313/313 [==============================] - 6s 20ms/step - loss: 0.4043 - accuracy: 0.8166 - val_loss: 0.4298 - val_accuracy: 0.7996\n",
            "Epoch 39/100\n",
            "313/313 [==============================] - 6s 20ms/step - loss: 0.4038 - accuracy: 0.8172 - val_loss: 0.4289 - val_accuracy: 0.8036\n",
            "Epoch 40/100\n",
            "313/313 [==============================] - 6s 19ms/step - loss: 0.4033 - accuracy: 0.8155 - val_loss: 0.4299 - val_accuracy: 0.8054\n",
            "Epoch 41/100\n",
            "313/313 [==============================] - 6s 20ms/step - loss: 0.4026 - accuracy: 0.8178 - val_loss: 0.4314 - val_accuracy: 0.8038\n",
            "Epoch 42/100\n",
            "313/313 [==============================] - 6s 19ms/step - loss: 0.4019 - accuracy: 0.8173 - val_loss: 0.4280 - val_accuracy: 0.8048\n",
            "Epoch 43/100\n",
            "313/313 [==============================] - 6s 20ms/step - loss: 0.4014 - accuracy: 0.8181 - val_loss: 0.4281 - val_accuracy: 0.8020\n",
            "Epoch 44/100\n",
            "313/313 [==============================] - 6s 19ms/step - loss: 0.4008 - accuracy: 0.8185 - val_loss: 0.4276 - val_accuracy: 0.8038\n",
            "Epoch 45/100\n",
            "313/313 [==============================] - 6s 20ms/step - loss: 0.3998 - accuracy: 0.8184 - val_loss: 0.4292 - val_accuracy: 0.7990\n",
            "Epoch 46/100\n",
            "313/313 [==============================] - 6s 19ms/step - loss: 0.3998 - accuracy: 0.8187 - val_loss: 0.4287 - val_accuracy: 0.8036\n",
            "Epoch 47/100\n",
            "313/313 [==============================] - 6s 20ms/step - loss: 0.3988 - accuracy: 0.8177 - val_loss: 0.4274 - val_accuracy: 0.8054\n",
            "Epoch 48/100\n",
            "313/313 [==============================] - 6s 20ms/step - loss: 0.3984 - accuracy: 0.8188 - val_loss: 0.4266 - val_accuracy: 0.8048\n",
            "Epoch 49/100\n",
            "313/313 [==============================] - 6s 20ms/step - loss: 0.3981 - accuracy: 0.8187 - val_loss: 0.4270 - val_accuracy: 0.8048\n",
            "Epoch 50/100\n",
            "313/313 [==============================] - 6s 20ms/step - loss: 0.3970 - accuracy: 0.8206 - val_loss: 0.4299 - val_accuracy: 0.8080\n",
            "Epoch 51/100\n",
            "313/313 [==============================] - 6s 20ms/step - loss: 0.3970 - accuracy: 0.8183 - val_loss: 0.4259 - val_accuracy: 0.8054\n",
            "Epoch 52/100\n",
            "313/313 [==============================] - 6s 20ms/step - loss: 0.3962 - accuracy: 0.8198 - val_loss: 0.4256 - val_accuracy: 0.8044\n",
            "Epoch 53/100\n",
            "313/313 [==============================] - 6s 20ms/step - loss: 0.3957 - accuracy: 0.8189 - val_loss: 0.4274 - val_accuracy: 0.8018\n",
            "Epoch 54/100\n",
            "313/313 [==============================] - 6s 20ms/step - loss: 0.3952 - accuracy: 0.8202 - val_loss: 0.4259 - val_accuracy: 0.8072\n",
            "Epoch 55/100\n",
            "313/313 [==============================] - 6s 20ms/step - loss: 0.3944 - accuracy: 0.8206 - val_loss: 0.4288 - val_accuracy: 0.8072\n"
          ]
        }
      ]
    },
    {
      "cell_type": "code",
      "metadata": {
        "id": "DN0mJ-UUqOj2",
        "colab": {
          "base_uri": "https://localhost:8080/",
          "height": 279
        },
        "outputId": "b04c8ba2-21e7-48f2-d673-b4e4eda93030"
      },
      "source": [
        "import matplotlib.pyplot as plt\n",
        "plt.plot(history.history['loss'])\n",
        "plt.plot(history.history['val_loss'])\n",
        "plt.xlabel('epoch')\n",
        "plt.ylabel('loss')\n",
        "plt.legend(['train', 'val'])\n",
        "plt.show()"
      ],
      "execution_count": 6,
      "outputs": [
        {
          "output_type": "display_data",
          "data": {
            "image/png": "[encoded data removed]",
            "text/plain": [
              "<Figure size 432x288 with 1 Axes>"
            ]
          },
          "metadata": {
            "needs_background": "light"
          }
        }
      ]
    },
    {
      "cell_type": "code",
      "metadata": {
        "id": "On-9OEK25A2j"
      },
      "source": [
        "model2 = keras.Sequential()\n",
        "model2.add(keras.layers.Embedding(500, 16, input_length=100))\n",
        "model2.add(keras.layers.LSTM(8, dropout=0.3))\n",
        "model2.add(keras.layers.Dense(1, activation='sigmoid'))"
      ],
      "execution_count": 7,
      "outputs": []
    },
    {
      "cell_type": "code",
      "metadata": {
        "colab": {
          "base_uri": "https://localhost:8080/"
        },
        "id": "T49VsHLG5jw6",
        "outputId": "9a2a17d8-d1ba-47c8-b9c0-4c994bb6653a"
      },
      "source": [
        "rmsprop = keras.optimizers.RMSprop(learning_rate=1e-4)\n",
        "model2.compile(optimizer=rmsprop, loss='binary_crossentropy', metrics='accuracy')\n",
        "checkpoint_cb = keras.callbacks.ModelCheckpoint('best-dropout-model.h5')\n",
        "early_stopping_cb = keras.callbacks.EarlyStopping(patience=3, restore_best_weights=True)\n",
        "history = model2.fit(train_seq, train_target, epochs=100, batch_size=64, validation_data=(val_seq, val_target), callbacks=[checkpoint_cb, early_stopping_cb])"
      ],
      "execution_count": 8,
      "outputs": [
        {
          "output_type": "stream",
          "name": "stdout",
          "text": [
            "Epoch 1/100\n",
            "313/313 [==============================] - 9s 21ms/step - loss: 0.6924 - accuracy: 0.5267 - val_loss: 0.6916 - val_accuracy: 0.5422\n",
            "Epoch 2/100\n",
            "313/313 [==============================] - 6s 20ms/step - loss: 0.6894 - accuracy: 0.5840 - val_loss: 0.6878 - val_accuracy: 0.6090\n",
            "Epoch 3/100\n",
            "313/313 [==============================] - 6s 19ms/step - loss: 0.6833 - accuracy: 0.6245 - val_loss: 0.6784 - val_accuracy: 0.6530\n",
            "Epoch 4/100\n",
            "313/313 [==============================] - 6s 20ms/step - loss: 0.6657 - accuracy: 0.6556 - val_loss: 0.6483 - val_accuracy: 0.6720\n",
            "Epoch 5/100\n",
            "313/313 [==============================] - 6s 20ms/step - loss: 0.6064 - accuracy: 0.6999 - val_loss: 0.5739 - val_accuracy: 0.7398\n",
            "Epoch 6/100\n",
            "313/313 [==============================] - 6s 20ms/step - loss: 0.5574 - accuracy: 0.7437 - val_loss: 0.5445 - val_accuracy: 0.7510\n",
            "Epoch 7/100\n",
            "313/313 [==============================] - 6s 20ms/step - loss: 0.5329 - accuracy: 0.7559 - val_loss: 0.5211 - val_accuracy: 0.7654\n",
            "Epoch 8/100\n",
            "313/313 [==============================] - 6s 20ms/step - loss: 0.5098 - accuracy: 0.7663 - val_loss: 0.5029 - val_accuracy: 0.7780\n",
            "Epoch 9/100\n",
            "313/313 [==============================] - 6s 20ms/step - loss: 0.4930 - accuracy: 0.7739 - val_loss: 0.4861 - val_accuracy: 0.7824\n",
            "Epoch 10/100\n",
            "313/313 [==============================] - 6s 20ms/step - loss: 0.4814 - accuracy: 0.7797 - val_loss: 0.4753 - val_accuracy: 0.7888\n",
            "Epoch 11/100\n",
            "313/313 [==============================] - 6s 19ms/step - loss: 0.4694 - accuracy: 0.7893 - val_loss: 0.4685 - val_accuracy: 0.7924\n",
            "Epoch 12/100\n",
            "313/313 [==============================] - 6s 20ms/step - loss: 0.4609 - accuracy: 0.7938 - val_loss: 0.4610 - val_accuracy: 0.7872\n",
            "Epoch 13/100\n",
            "313/313 [==============================] - 6s 20ms/step - loss: 0.4555 - accuracy: 0.7932 - val_loss: 0.4566 - val_accuracy: 0.7902\n",
            "Epoch 14/100\n",
            "313/313 [==============================] - 6s 20ms/step - loss: 0.4486 - accuracy: 0.7983 - val_loss: 0.4511 - val_accuracy: 0.7944\n",
            "Epoch 15/100\n",
            "313/313 [==============================] - 6s 19ms/step - loss: 0.4457 - accuracy: 0.7997 - val_loss: 0.4504 - val_accuracy: 0.7968\n",
            "Epoch 16/100\n",
            "313/313 [==============================] - 6s 20ms/step - loss: 0.4426 - accuracy: 0.8004 - val_loss: 0.4464 - val_accuracy: 0.7980\n",
            "Epoch 17/100\n",
            "313/313 [==============================] - 6s 19ms/step - loss: 0.4398 - accuracy: 0.8027 - val_loss: 0.4440 - val_accuracy: 0.7992\n",
            "Epoch 18/100\n",
            "313/313 [==============================] - 6s 20ms/step - loss: 0.4363 - accuracy: 0.8031 - val_loss: 0.4430 - val_accuracy: 0.7976\n",
            "Epoch 19/100\n",
            "313/313 [==============================] - 6s 19ms/step - loss: 0.4332 - accuracy: 0.8033 - val_loss: 0.4413 - val_accuracy: 0.7984\n",
            "Epoch 20/100\n",
            "313/313 [==============================] - 6s 20ms/step - loss: 0.4311 - accuracy: 0.8052 - val_loss: 0.4402 - val_accuracy: 0.7992\n",
            "Epoch 21/100\n",
            "313/313 [==============================] - 6s 20ms/step - loss: 0.4316 - accuracy: 0.8067 - val_loss: 0.4394 - val_accuracy: 0.7994\n",
            "Epoch 22/100\n",
            "313/313 [==============================] - 6s 20ms/step - loss: 0.4291 - accuracy: 0.8077 - val_loss: 0.4419 - val_accuracy: 0.7916\n",
            "Epoch 23/100\n",
            "313/313 [==============================] - 6s 20ms/step - loss: 0.4278 - accuracy: 0.8037 - val_loss: 0.4382 - val_accuracy: 0.7992\n",
            "Epoch 24/100\n",
            "313/313 [==============================] - 6s 20ms/step - loss: 0.4267 - accuracy: 0.8070 - val_loss: 0.4374 - val_accuracy: 0.8004\n",
            "Epoch 25/100\n",
            "313/313 [==============================] - 6s 20ms/step - loss: 0.4252 - accuracy: 0.8051 - val_loss: 0.4379 - val_accuracy: 0.8034\n",
            "Epoch 26/100\n",
            "313/313 [==============================] - 6s 20ms/step - loss: 0.4270 - accuracy: 0.8059 - val_loss: 0.4369 - val_accuracy: 0.8022\n",
            "Epoch 27/100\n",
            "313/313 [==============================] - 6s 20ms/step - loss: 0.4222 - accuracy: 0.8080 - val_loss: 0.4367 - val_accuracy: 0.8018\n",
            "Epoch 28/100\n",
            "313/313 [==============================] - 6s 20ms/step - loss: 0.4229 - accuracy: 0.8086 - val_loss: 0.4379 - val_accuracy: 0.7938\n",
            "Epoch 29/100\n",
            "313/313 [==============================] - 6s 20ms/step - loss: 0.4235 - accuracy: 0.8044 - val_loss: 0.4362 - val_accuracy: 0.7996\n",
            "Epoch 30/100\n",
            "313/313 [==============================] - 6s 20ms/step - loss: 0.4219 - accuracy: 0.8084 - val_loss: 0.4371 - val_accuracy: 0.8044\n",
            "Epoch 31/100\n",
            "313/313 [==============================] - 6s 19ms/step - loss: 0.4226 - accuracy: 0.8081 - val_loss: 0.4357 - val_accuracy: 0.7982\n",
            "Epoch 32/100\n",
            "313/313 [==============================] - 6s 20ms/step - loss: 0.4214 - accuracy: 0.8071 - val_loss: 0.4362 - val_accuracy: 0.7952\n",
            "Epoch 33/100\n",
            "313/313 [==============================] - 6s 20ms/step - loss: 0.4205 - accuracy: 0.8101 - val_loss: 0.4345 - val_accuracy: 0.8010\n",
            "Epoch 34/100\n",
            "313/313 [==============================] - 6s 20ms/step - loss: 0.4188 - accuracy: 0.8081 - val_loss: 0.4366 - val_accuracy: 0.8060\n",
            "Epoch 35/100\n",
            "313/313 [==============================] - 6s 20ms/step - loss: 0.4194 - accuracy: 0.8084 - val_loss: 0.4339 - val_accuracy: 0.8026\n",
            "Epoch 36/100\n",
            "313/313 [==============================] - 6s 20ms/step - loss: 0.4182 - accuracy: 0.8086 - val_loss: 0.4340 - val_accuracy: 0.8020\n",
            "Epoch 37/100\n",
            "313/313 [==============================] - 6s 20ms/step - loss: 0.4184 - accuracy: 0.8098 - val_loss: 0.4374 - val_accuracy: 0.8030\n",
            "Epoch 38/100\n",
            "313/313 [==============================] - 6s 20ms/step - loss: 0.4178 - accuracy: 0.8080 - val_loss: 0.4337 - val_accuracy: 0.8018\n",
            "Epoch 39/100\n",
            "313/313 [==============================] - 6s 19ms/step - loss: 0.4166 - accuracy: 0.8112 - val_loss: 0.4328 - val_accuracy: 0.8026\n",
            "Epoch 40/100\n",
            "313/313 [==============================] - 6s 20ms/step - loss: 0.4169 - accuracy: 0.8090 - val_loss: 0.4326 - val_accuracy: 0.8040\n",
            "Epoch 41/100\n",
            "313/313 [==============================] - 6s 20ms/step - loss: 0.4165 - accuracy: 0.8098 - val_loss: 0.4321 - val_accuracy: 0.7988\n",
            "Epoch 42/100\n",
            "313/313 [==============================] - 6s 20ms/step - loss: 0.4161 - accuracy: 0.8107 - val_loss: 0.4331 - val_accuracy: 0.7992\n",
            "Epoch 43/100\n",
            "313/313 [==============================] - 6s 20ms/step - loss: 0.4160 - accuracy: 0.8087 - val_loss: 0.4322 - val_accuracy: 0.8054\n",
            "Epoch 44/100\n",
            "313/313 [==============================] - 6s 20ms/step - loss: 0.4148 - accuracy: 0.8109 - val_loss: 0.4326 - val_accuracy: 0.8036\n"
          ]
        }
      ]
    },
    {
      "cell_type": "code",
      "metadata": {
        "colab": {
          "base_uri": "https://localhost:8080/",
          "height": 279
        },
        "id": "nOCcmxI15tHY",
        "outputId": "6b4230fe-2df5-48c5-be3d-d202cc0167a0"
      },
      "source": [
        "plt.plot(history.history['loss'])\n",
        "plt.plot(history.history['val_loss'])\n",
        "plt.xlabel('epoch')\n",
        "plt.ylabel('loss')\n",
        "plt.legend(['train', 'val'])\n",
        "plt.show()"
      ],
      "execution_count": 10,
      "outputs": [
        {
          "output_type": "display_data",
          "data": {
            "image/png": "[encoded data removed]",
            "text/plain": [
              "<Figure size 432x288 with 1 Axes>"
            ]
          },
          "metadata": {
            "needs_background": "light"
          }
        }
      ]
    },
    {
      "cell_type": "code",
      "metadata": {
        "id": "9FMOF34h6C7B"
      },
      "source": [
        "model3 = keras.Sequential()\n",
        "model3.add(keras.layers.Embedding(500, 16, input_length=100))\n",
        "model3.add(keras.layers.LSTM(8, dropout=0.3, return_sequences=True))\n",
        "model3.add(keras.layers.LSTM(8, dropout=0.3))\n",
        "model3.add(keras.layers.Dense(1, activation='sigmoid'))"
      ],
      "execution_count": 11,
      "outputs": []
    },
    {
      "cell_type": "code",
      "metadata": {
        "colab": {
          "base_uri": "https://localhost:8080/"
        },
        "id": "PXCzG5wo7AxT",
        "outputId": "99794390-1678-4d5f-848c-08201981c75b"
      },
      "source": [
        "model3.summary()"
      ],
      "execution_count": 12,
      "outputs": [
        {
          "output_type": "stream",
          "name": "stdout",
          "text": [
            "Model: \"sequential_2\"\n",
            "_________________________________________________________________\n",
            "Layer (type)                 Output Shape              Param #   \n",
            "=================================================================\n",
            "embedding_2 (Embedding)      (None, 100, 16)           8000      \n",
            "_________________________________________________________________\n",
            "lstm_2 (LSTM)                (None, 100, 8)            800       \n",
            "_________________________________________________________________\n",
            "lstm_3 (LSTM)                (None, 8)                 544       \n",
            "_________________________________________________________________\n",
            "dense_2 (Dense)              (None, 1)                 9         \n",
            "=================================================================\n",
            "Total params: 9,353\n",
            "Trainable params: 9,353\n",
            "Non-trainable params: 0\n",
            "_________________________________________________________________\n"
          ]
        }
      ]
    },
    {
      "cell_type": "code",
      "metadata": {
        "colab": {
          "base_uri": "https://localhost:8080/",
          "height": 533
        },
        "id": "Gp1dKxpB7CD5",
        "outputId": "eeb8d369-6b6f-47a3-ae27-cf3c49b72056"
      },
      "source": [
        "keras.utils.plot_model(model3, show_shapes=True)"
      ],
      "execution_count": 13,
      "outputs": [
        {
          "output_type": "execute_result",
          "data": {
            "image/png": "[encoded data removed]",
            "text/plain": [
              "<IPython.core.display.Image object>"
            ]
          },
          "metadata": {},
          "execution_count": 13
        }
      ]
    },
    {
      "cell_type": "code",
      "metadata": {
        "colab": {
          "base_uri": "https://localhost:8080/"
        },
        "id": "IaX4rAjd7Gyx",
        "outputId": "a99d54f4-38a5-44fe-9934-e79e8b0ee2fe"
      },
      "source": [
        "rmsprop = keras.optimizers.RMSprop(learning_rate=1e-4)\n",
        "model3.compile(optimizer=rmsprop, loss='binary_crossentropy', metrics='accuracy')\n",
        "checkpoint_cb = keras.callbacks.ModelCheckpoint('best-2rnn-model.h5')\n",
        "early_stopping_cb = keras.callbacks.EarlyStopping(patience=3, restore_best_weights=True)\n",
        "history = model3.fit(train_seq, train_target, epochs=100, batch_size=64, validation_data=(val_seq, val_target), callbacks=[checkpoint_cb, early_stopping_cb])"
      ],
      "execution_count": 14,
      "outputs": [
        {
          "output_type": "stream",
          "name": "stdout",
          "text": [
            "Epoch 1/100\n",
            "313/313 [==============================] - 18s 43ms/step - loss: 0.6926 - accuracy: 0.5373 - val_loss: 0.6919 - val_accuracy: 0.5402\n",
            "Epoch 2/100\n",
            "313/313 [==============================] - 13s 40ms/step - loss: 0.6879 - accuracy: 0.6023 - val_loss: 0.6798 - val_accuracy: 0.6282\n",
            "Epoch 3/100\n",
            "313/313 [==============================] - 13s 41ms/step - loss: 0.6433 - accuracy: 0.6668 - val_loss: 0.6049 - val_accuracy: 0.7004\n",
            "Epoch 4/100\n",
            "313/313 [==============================] - 13s 41ms/step - loss: 0.5857 - accuracy: 0.7128 - val_loss: 0.5693 - val_accuracy: 0.7264\n",
            "Epoch 5/100\n",
            "313/313 [==============================] - 13s 41ms/step - loss: 0.5564 - accuracy: 0.7333 - val_loss: 0.5388 - val_accuracy: 0.7472\n",
            "Epoch 6/100\n",
            "313/313 [==============================] - 13s 40ms/step - loss: 0.5329 - accuracy: 0.7498 - val_loss: 0.5176 - val_accuracy: 0.7638\n",
            "Epoch 7/100\n",
            "313/313 [==============================] - 13s 40ms/step - loss: 0.5155 - accuracy: 0.7589 - val_loss: 0.5037 - val_accuracy: 0.7708\n",
            "Epoch 8/100\n",
            "313/313 [==============================] - 13s 41ms/step - loss: 0.5011 - accuracy: 0.7681 - val_loss: 0.4919 - val_accuracy: 0.7782\n",
            "Epoch 9/100\n",
            "313/313 [==============================] - 13s 40ms/step - loss: 0.4916 - accuracy: 0.7747 - val_loss: 0.4837 - val_accuracy: 0.7818\n",
            "Epoch 10/100\n",
            "313/313 [==============================] - 13s 41ms/step - loss: 0.4832 - accuracy: 0.7788 - val_loss: 0.4756 - val_accuracy: 0.7818\n",
            "Epoch 11/100\n",
            "313/313 [==============================] - 13s 41ms/step - loss: 0.4746 - accuracy: 0.7828 - val_loss: 0.4694 - val_accuracy: 0.7844\n",
            "Epoch 12/100\n",
            "313/313 [==============================] - 13s 41ms/step - loss: 0.4677 - accuracy: 0.7828 - val_loss: 0.4649 - val_accuracy: 0.7882\n",
            "Epoch 13/100\n",
            "313/313 [==============================] - 13s 41ms/step - loss: 0.4627 - accuracy: 0.7883 - val_loss: 0.4613 - val_accuracy: 0.7878\n",
            "Epoch 14/100\n",
            "313/313 [==============================] - 13s 41ms/step - loss: 0.4594 - accuracy: 0.7904 - val_loss: 0.4627 - val_accuracy: 0.7858\n",
            "Epoch 15/100\n",
            "313/313 [==============================] - 13s 41ms/step - loss: 0.4558 - accuracy: 0.7898 - val_loss: 0.4572 - val_accuracy: 0.7922\n",
            "Epoch 16/100\n",
            "313/313 [==============================] - 13s 40ms/step - loss: 0.4513 - accuracy: 0.7940 - val_loss: 0.4525 - val_accuracy: 0.7874\n",
            "Epoch 17/100\n",
            "313/313 [==============================] - 13s 41ms/step - loss: 0.4487 - accuracy: 0.7982 - val_loss: 0.4516 - val_accuracy: 0.7896\n",
            "Epoch 18/100\n",
            "313/313 [==============================] - 13s 41ms/step - loss: 0.4456 - accuracy: 0.7965 - val_loss: 0.4491 - val_accuracy: 0.7924\n",
            "Epoch 19/100\n",
            "313/313 [==============================] - 13s 41ms/step - loss: 0.4430 - accuracy: 0.7971 - val_loss: 0.4481 - val_accuracy: 0.7914\n",
            "Epoch 20/100\n",
            "313/313 [==============================] - 13s 41ms/step - loss: 0.4413 - accuracy: 0.7976 - val_loss: 0.4475 - val_accuracy: 0.7950\n",
            "Epoch 21/100\n",
            "313/313 [==============================] - 13s 41ms/step - loss: 0.4409 - accuracy: 0.7972 - val_loss: 0.4478 - val_accuracy: 0.7936\n",
            "Epoch 22/100\n",
            "313/313 [==============================] - 13s 41ms/step - loss: 0.4379 - accuracy: 0.8012 - val_loss: 0.4452 - val_accuracy: 0.7950\n",
            "Epoch 23/100\n",
            "313/313 [==============================] - 13s 41ms/step - loss: 0.4365 - accuracy: 0.8033 - val_loss: 0.4451 - val_accuracy: 0.7954\n",
            "Epoch 24/100\n",
            "313/313 [==============================] - 13s 41ms/step - loss: 0.4347 - accuracy: 0.8023 - val_loss: 0.4418 - val_accuracy: 0.7974\n",
            "Epoch 25/100\n",
            "313/313 [==============================] - 13s 41ms/step - loss: 0.4337 - accuracy: 0.8025 - val_loss: 0.4403 - val_accuracy: 0.7976\n",
            "Epoch 26/100\n",
            "313/313 [==============================] - 13s 41ms/step - loss: 0.4324 - accuracy: 0.8028 - val_loss: 0.4406 - val_accuracy: 0.7970\n",
            "Epoch 27/100\n",
            "313/313 [==============================] - 13s 41ms/step - loss: 0.4334 - accuracy: 0.8012 - val_loss: 0.4400 - val_accuracy: 0.7928\n",
            "Epoch 28/100\n",
            "313/313 [==============================] - 13s 40ms/step - loss: 0.4302 - accuracy: 0.8033 - val_loss: 0.4408 - val_accuracy: 0.7930\n",
            "Epoch 29/100\n",
            "313/313 [==============================] - 13s 41ms/step - loss: 0.4300 - accuracy: 0.8037 - val_loss: 0.4384 - val_accuracy: 0.8000\n",
            "Epoch 30/100\n",
            "313/313 [==============================] - 13s 41ms/step - loss: 0.4292 - accuracy: 0.8061 - val_loss: 0.4382 - val_accuracy: 0.7964\n",
            "Epoch 31/100\n",
            "313/313 [==============================] - 13s 41ms/step - loss: 0.4290 - accuracy: 0.8030 - val_loss: 0.4402 - val_accuracy: 0.7988\n",
            "Epoch 32/100\n",
            "313/313 [==============================] - 13s 41ms/step - loss: 0.4272 - accuracy: 0.8070 - val_loss: 0.4396 - val_accuracy: 0.7930\n",
            "Epoch 33/100\n",
            "313/313 [==============================] - 13s 41ms/step - loss: 0.4281 - accuracy: 0.8058 - val_loss: 0.4379 - val_accuracy: 0.8010\n",
            "Epoch 34/100\n",
            "313/313 [==============================] - 13s 41ms/step - loss: 0.4280 - accuracy: 0.8038 - val_loss: 0.4351 - val_accuracy: 0.8012\n",
            "Epoch 35/100\n",
            "313/313 [==============================] - 13s 41ms/step - loss: 0.4251 - accuracy: 0.8062 - val_loss: 0.4351 - val_accuracy: 0.7986\n",
            "Epoch 36/100\n",
            "313/313 [==============================] - 13s 41ms/step - loss: 0.4242 - accuracy: 0.8066 - val_loss: 0.4342 - val_accuracy: 0.7992\n",
            "Epoch 37/100\n",
            "313/313 [==============================] - 13s 40ms/step - loss: 0.4260 - accuracy: 0.8067 - val_loss: 0.4372 - val_accuracy: 0.7966\n",
            "Epoch 38/100\n",
            "313/313 [==============================] - 13s 41ms/step - loss: 0.4236 - accuracy: 0.8080 - val_loss: 0.4333 - val_accuracy: 0.8004\n",
            "Epoch 39/100\n",
            "313/313 [==============================] - 13s 41ms/step - loss: 0.4228 - accuracy: 0.8084 - val_loss: 0.4332 - val_accuracy: 0.8026\n",
            "Epoch 40/100\n",
            "313/313 [==============================] - 13s 40ms/step - loss: 0.4240 - accuracy: 0.8059 - val_loss: 0.4333 - val_accuracy: 0.8018\n",
            "Epoch 41/100\n",
            "313/313 [==============================] - 13s 41ms/step - loss: 0.4227 - accuracy: 0.8069 - val_loss: 0.4323 - val_accuracy: 0.8008\n",
            "Epoch 42/100\n",
            "313/313 [==============================] - 13s 41ms/step - loss: 0.4218 - accuracy: 0.8081 - val_loss: 0.4324 - val_accuracy: 0.8006\n",
            "Epoch 43/100\n",
            "313/313 [==============================] - 13s 41ms/step - loss: 0.4235 - accuracy: 0.8055 - val_loss: 0.4421 - val_accuracy: 0.7990\n",
            "Epoch 44/100\n",
            "313/313 [==============================] - 13s 41ms/step - loss: 0.4211 - accuracy: 0.8077 - val_loss: 0.4317 - val_accuracy: 0.8024\n",
            "Epoch 45/100\n",
            "313/313 [==============================] - 13s 40ms/step - loss: 0.4198 - accuracy: 0.8076 - val_loss: 0.4325 - val_accuracy: 0.8034\n",
            "Epoch 46/100\n",
            "313/313 [==============================] - 13s 40ms/step - loss: 0.4193 - accuracy: 0.8077 - val_loss: 0.4312 - val_accuracy: 0.8022\n",
            "Epoch 47/100\n",
            "313/313 [==============================] - 13s 41ms/step - loss: 0.4193 - accuracy: 0.8076 - val_loss: 0.4308 - val_accuracy: 0.8038\n",
            "Epoch 48/100\n",
            "313/313 [==============================] - 13s 41ms/step - loss: 0.4189 - accuracy: 0.8087 - val_loss: 0.4314 - val_accuracy: 0.8010\n",
            "Epoch 49/100\n",
            "313/313 [==============================] - 13s 41ms/step - loss: 0.4180 - accuracy: 0.8101 - val_loss: 0.4302 - val_accuracy: 0.8026\n",
            "Epoch 50/100\n",
            "313/313 [==============================] - 13s 41ms/step - loss: 0.4188 - accuracy: 0.8093 - val_loss: 0.4336 - val_accuracy: 0.7982\n",
            "Epoch 51/100\n",
            "313/313 [==============================] - 13s 40ms/step - loss: 0.4174 - accuracy: 0.8110 - val_loss: 0.4296 - val_accuracy: 0.8050\n",
            "Epoch 52/100\n",
            "313/313 [==============================] - 13s 41ms/step - loss: 0.4173 - accuracy: 0.8097 - val_loss: 0.4306 - val_accuracy: 0.8012\n",
            "Epoch 53/100\n",
            "313/313 [==============================] - 13s 41ms/step - loss: 0.4177 - accuracy: 0.8109 - val_loss: 0.4296 - val_accuracy: 0.8026\n",
            "Epoch 54/100\n",
            "313/313 [==============================] - 13s 41ms/step - loss: 0.4158 - accuracy: 0.8108 - val_loss: 0.4291 - val_accuracy: 0.8040\n",
            "Epoch 55/100\n",
            "313/313 [==============================] - 13s 41ms/step - loss: 0.4162 - accuracy: 0.8111 - val_loss: 0.4290 - val_accuracy: 0.8020\n",
            "Epoch 56/100\n",
            "313/313 [==============================] - 13s 41ms/step - loss: 0.4160 - accuracy: 0.8110 - val_loss: 0.4330 - val_accuracy: 0.8012\n",
            "Epoch 57/100\n",
            "313/313 [==============================] - 13s 41ms/step - loss: 0.4155 - accuracy: 0.8102 - val_loss: 0.4306 - val_accuracy: 0.8026\n",
            "Epoch 58/100\n",
            "313/313 [==============================] - 13s 41ms/step - loss: 0.4150 - accuracy: 0.8103 - val_loss: 0.4273 - val_accuracy: 0.8060\n",
            "Epoch 59/100\n",
            "313/313 [==============================] - 13s 40ms/step - loss: 0.4139 - accuracy: 0.8127 - val_loss: 0.4328 - val_accuracy: 0.8032\n",
            "Epoch 60/100\n",
            "313/313 [==============================] - 13s 41ms/step - loss: 0.4144 - accuracy: 0.8110 - val_loss: 0.4275 - val_accuracy: 0.8054\n",
            "Epoch 61/100\n",
            "313/313 [==============================] - 13s 41ms/step - loss: 0.4132 - accuracy: 0.8110 - val_loss: 0.4268 - val_accuracy: 0.8042\n",
            "Epoch 62/100\n",
            "313/313 [==============================] - 13s 41ms/step - loss: 0.4131 - accuracy: 0.8134 - val_loss: 0.4265 - val_accuracy: 0.8046\n",
            "Epoch 63/100\n",
            "313/313 [==============================] - 13s 41ms/step - loss: 0.4109 - accuracy: 0.8116 - val_loss: 0.4285 - val_accuracy: 0.8016\n",
            "Epoch 64/100\n",
            "313/313 [==============================] - 13s 41ms/step - loss: 0.4093 - accuracy: 0.8123 - val_loss: 0.4259 - val_accuracy: 0.8046\n",
            "Epoch 65/100\n",
            "313/313 [==============================] - 13s 41ms/step - loss: 0.4098 - accuracy: 0.8124 - val_loss: 0.4274 - val_accuracy: 0.8044\n",
            "Epoch 66/100\n",
            "313/313 [==============================] - 13s 41ms/step - loss: 0.4078 - accuracy: 0.8127 - val_loss: 0.4247 - val_accuracy: 0.8052\n",
            "Epoch 67/100\n",
            "313/313 [==============================] - 13s 41ms/step - loss: 0.4092 - accuracy: 0.8145 - val_loss: 0.4265 - val_accuracy: 0.8062\n",
            "Epoch 68/100\n",
            "313/313 [==============================] - 13s 41ms/step - loss: 0.4085 - accuracy: 0.8127 - val_loss: 0.4326 - val_accuracy: 0.8004\n",
            "Epoch 69/100\n",
            "313/313 [==============================] - 13s 41ms/step - loss: 0.4082 - accuracy: 0.8127 - val_loss: 0.4259 - val_accuracy: 0.8062\n"
          ]
        }
      ]
    },
    {
      "cell_type": "code",
      "metadata": {
        "colab": {
          "base_uri": "https://localhost:8080/",
          "height": 279
        },
        "id": "SBmOaPfc7Yz6",
        "outputId": "dc62f04b-edf8-4fae-978c-01a5ba2b9f3b"
      },
      "source": [
        "plt.plot(history.history['loss'])\n",
        "plt.plot(history.history['val_loss'])\n",
        "plt.xlabel('epoch')\n",
        "plt.ylabel('loss')\n",
        "plt.legend(['train', 'val'])\n",
        "plt.show()"
      ],
      "execution_count": 15,
      "outputs": [
        {
          "output_type": "display_data",
          "data": {
            "image/png": "[encoded data removed]",
            "text/plain": [
              "<Figure size 432x288 with 1 Axes>"
            ]
          },
          "metadata": {
            "needs_background": "light"
          }
        }
      ]
    },
    {
      "cell_type": "code",
      "metadata": {
        "colab": {
          "base_uri": "https://localhost:8080/"
        },
        "id": "l1AJUS1M7ftt",
        "outputId": "f94182db-f6cd-4088-fb7c-a99b3590b7b5"
      },
      "source": [
        "model4 = keras.Sequential()\n",
        "model4.add(keras.layers.Embedding(500, 16, input_length=100))\n",
        "model4.add(keras.layers.GRU(8))\n",
        "model4.add(keras.layers.Dense(1, activation='sigmoid'))\n",
        "model4.summary()"
      ],
      "execution_count": 16,
      "outputs": [
        {
          "output_type": "stream",
          "name": "stdout",
          "text": [
            "Model: \"sequential_3\"\n",
            "_________________________________________________________________\n",
            "Layer (type)                 Output Shape              Param #   \n",
            "=================================================================\n",
            "embedding_3 (Embedding)      (None, 100, 16)           8000      \n",
            "_________________________________________________________________\n",
            "gru (GRU)                    (None, 8)                 624       \n",
            "_________________________________________________________________\n",
            "dense_3 (Dense)              (None, 1)                 9         \n",
            "=================================================================\n",
            "Total params: 8,633\n",
            "Trainable params: 8,633\n",
            "Non-trainable params: 0\n",
            "_________________________________________________________________\n"
          ]
        }
      ]
    },
    {
      "cell_type": "code",
      "metadata": {
        "colab": {
          "base_uri": "https://localhost:8080/"
        },
        "id": "wsZbYeJq8Rbq",
        "outputId": "8a78e4d1-935a-41cd-cbfa-dba3f44e5af6"
      },
      "source": [
        "rmsprop = keras.optimizers.RMSprop(learning_rate=1e-4)\n",
        "model4.compile(optimizer=rmsprop, loss='binary_crossentropy', metrics='accuracy')\n",
        "checkpoint_cb = keras.callbacks.ModelCheckpoint('best-gru-model.h5')\n",
        "early_stopping_cb = keras.callbacks.EarlyStopping(patience=3, restore_best_weights=True)\n",
        "history = model4.fit(train_seq, train_target, epochs=100, batch_size=64, validation_data=(val_seq, val_target), callbacks=[checkpoint_cb, early_stopping_cb])"
      ],
      "execution_count": 17,
      "outputs": [
        {
          "output_type": "stream",
          "name": "stdout",
          "text": [
            "Epoch 1/100\n",
            "313/313 [==============================] - 9s 21ms/step - loss: 0.6919 - accuracy: 0.5397 - val_loss: 0.6908 - val_accuracy: 0.5518\n",
            "Epoch 2/100\n",
            "313/313 [==============================] - 6s 19ms/step - loss: 0.6880 - accuracy: 0.6029 - val_loss: 0.6860 - val_accuracy: 0.6026\n",
            "Epoch 3/100\n",
            "313/313 [==============================] - 6s 19ms/step - loss: 0.6802 - accuracy: 0.6389 - val_loss: 0.6758 - val_accuracy: 0.6414\n",
            "Epoch 4/100\n",
            "313/313 [==============================] - 6s 19ms/step - loss: 0.6638 - accuracy: 0.6603 - val_loss: 0.6528 - val_accuracy: 0.6670\n",
            "Epoch 5/100\n",
            "313/313 [==============================] - 6s 19ms/step - loss: 0.6225 - accuracy: 0.6921 - val_loss: 0.5868 - val_accuracy: 0.7106\n",
            "Epoch 6/100\n",
            "313/313 [==============================] - 6s 19ms/step - loss: 0.5391 - accuracy: 0.7423 - val_loss: 0.5303 - val_accuracy: 0.7490\n",
            "Epoch 7/100\n",
            "313/313 [==============================] - 6s 19ms/step - loss: 0.5064 - accuracy: 0.7603 - val_loss: 0.5013 - val_accuracy: 0.7634\n",
            "Epoch 8/100\n",
            "313/313 [==============================] - 6s 20ms/step - loss: 0.4864 - accuracy: 0.7739 - val_loss: 0.4852 - val_accuracy: 0.7690\n",
            "Epoch 9/100\n",
            "313/313 [==============================] - 6s 19ms/step - loss: 0.4708 - accuracy: 0.7836 - val_loss: 0.4757 - val_accuracy: 0.7812\n",
            "Epoch 10/100\n",
            "313/313 [==============================] - 6s 19ms/step - loss: 0.4596 - accuracy: 0.7897 - val_loss: 0.4671 - val_accuracy: 0.7860\n",
            "Epoch 11/100\n",
            "313/313 [==============================] - 6s 19ms/step - loss: 0.4512 - accuracy: 0.7949 - val_loss: 0.4654 - val_accuracy: 0.7894\n",
            "Epoch 12/100\n",
            "313/313 [==============================] - 6s 19ms/step - loss: 0.4452 - accuracy: 0.7972 - val_loss: 0.4559 - val_accuracy: 0.7872\n",
            "Epoch 13/100\n",
            "313/313 [==============================] - 6s 19ms/step - loss: 0.4399 - accuracy: 0.8032 - val_loss: 0.4527 - val_accuracy: 0.7904\n",
            "Epoch 14/100\n",
            "313/313 [==============================] - 6s 19ms/step - loss: 0.4356 - accuracy: 0.8055 - val_loss: 0.4513 - val_accuracy: 0.7904\n",
            "Epoch 15/100\n",
            "313/313 [==============================] - 6s 19ms/step - loss: 0.4322 - accuracy: 0.8068 - val_loss: 0.4488 - val_accuracy: 0.7902\n",
            "Epoch 16/100\n",
            "313/313 [==============================] - 6s 20ms/step - loss: 0.4299 - accuracy: 0.8084 - val_loss: 0.4491 - val_accuracy: 0.7918\n",
            "Epoch 17/100\n",
            "313/313 [==============================] - 6s 19ms/step - loss: 0.4275 - accuracy: 0.8108 - val_loss: 0.4481 - val_accuracy: 0.7910\n",
            "Epoch 18/100\n",
            "313/313 [==============================] - 6s 19ms/step - loss: 0.4255 - accuracy: 0.8110 - val_loss: 0.4468 - val_accuracy: 0.7912\n",
            "Epoch 19/100\n",
            "313/313 [==============================] - 6s 20ms/step - loss: 0.4242 - accuracy: 0.8124 - val_loss: 0.4447 - val_accuracy: 0.7918\n",
            "Epoch 20/100\n",
            "313/313 [==============================] - 6s 20ms/step - loss: 0.4224 - accuracy: 0.8125 - val_loss: 0.4457 - val_accuracy: 0.7942\n",
            "Epoch 21/100\n",
            "313/313 [==============================] - 6s 20ms/step - loss: 0.4215 - accuracy: 0.8127 - val_loss: 0.4434 - val_accuracy: 0.7934\n",
            "Epoch 22/100\n",
            "313/313 [==============================] - 6s 19ms/step - loss: 0.4206 - accuracy: 0.8137 - val_loss: 0.4446 - val_accuracy: 0.7910\n",
            "Epoch 23/100\n",
            "313/313 [==============================] - 6s 19ms/step - loss: 0.4198 - accuracy: 0.8127 - val_loss: 0.4433 - val_accuracy: 0.7966\n",
            "Epoch 24/100\n",
            "313/313 [==============================] - 6s 19ms/step - loss: 0.4188 - accuracy: 0.8153 - val_loss: 0.4428 - val_accuracy: 0.7948\n",
            "Epoch 25/100\n",
            "313/313 [==============================] - 6s 19ms/step - loss: 0.4182 - accuracy: 0.8142 - val_loss: 0.4427 - val_accuracy: 0.7904\n",
            "Epoch 26/100\n",
            "313/313 [==============================] - 6s 20ms/step - loss: 0.4181 - accuracy: 0.8145 - val_loss: 0.4431 - val_accuracy: 0.7960\n",
            "Epoch 27/100\n",
            "313/313 [==============================] - 6s 19ms/step - loss: 0.4172 - accuracy: 0.8159 - val_loss: 0.4451 - val_accuracy: 0.7902\n",
            "Epoch 28/100\n",
            "313/313 [==============================] - 6s 19ms/step - loss: 0.4168 - accuracy: 0.8145 - val_loss: 0.4426 - val_accuracy: 0.7924\n",
            "Epoch 29/100\n",
            "313/313 [==============================] - 6s 20ms/step - loss: 0.4163 - accuracy: 0.8156 - val_loss: 0.4428 - val_accuracy: 0.7972\n",
            "Epoch 30/100\n",
            "313/313 [==============================] - 6s 19ms/step - loss: 0.4160 - accuracy: 0.8151 - val_loss: 0.4452 - val_accuracy: 0.7956\n",
            "Epoch 31/100\n",
            "313/313 [==============================] - 6s 20ms/step - loss: 0.4154 - accuracy: 0.8156 - val_loss: 0.4433 - val_accuracy: 0.7948\n"
          ]
        }
      ]
    },
    {
      "cell_type": "code",
      "metadata": {
        "colab": {
          "base_uri": "https://localhost:8080/",
          "height": 279
        },
        "id": "tN_DBD1Q8vAU",
        "outputId": "87dd55a5-f5f9-49ba-a556-deb6476242c8"
      },
      "source": [
        "plt.plot(history.history['loss'])\n",
        "plt.plot(history.history['val_loss'])\n",
        "plt.xlabel('epoch')\n",
        "plt.ylabel('loss')\n",
        "plt.legend(['train', 'val'])\n",
        "plt.show()"
      ],
      "execution_count": 18,
      "outputs": [
        {
          "output_type": "display_data",
          "data": {
            "image/png": "[encoded data removed]",
            "text/plain": [
              "<Figure size 432x288 with 1 Axes>"
            ]
          },
          "metadata": {
            "needs_background": "light"
          }
        }
      ]
    },
    {
      "cell_type": "code",
      "metadata": {
        "id": "MyP2yfqQ82NM"
      },
      "source": [
        "test_seq = pad_sequences(test_input, maxlen=100)"
      ],
      "execution_count": 19,
      "outputs": []
    },
    {
      "cell_type": "code",
      "metadata": {
        "colab": {
          "base_uri": "https://localhost:8080/"
        },
        "id": "cCV2OY4q9lVI",
        "outputId": "b725feee-c4eb-4cce-effc-6222c9bbd296"
      },
      "source": [
        "for name in ['lstm', 'dropout', '2rnn', 'gru']:\n",
        "    to_evaluate = keras.models.load_model('best-' + name + '-model.h5')\n",
        "    to_evaluate.evaluate(test_seq, test_target)"
      ],
      "execution_count": 20,
      "outputs": [
        {
          "output_type": "stream",
          "name": "stdout",
          "text": [
            "782/782 [==============================] - 6s 8ms/step - loss: 0.4224 - accuracy: 0.8046\n",
            "782/782 [==============================] - 6s 7ms/step - loss: 0.4268 - accuracy: 0.8027\n",
            "782/782 [==============================] - 12s 15ms/step - loss: 0.4210 - accuracy: 0.8026\n",
            "782/782 [==============================] - 6s 7ms/step - loss: 0.4394 - accuracy: 0.7944\n"
          ]
        }
      ]
    },
    {
      "cell_type": "code",
      "metadata": {
        "id": "ocHywGP29l77"
      },
      "source": [
        ""
      ],
      "execution_count": null,
      "outputs": []
    }
  ]
}