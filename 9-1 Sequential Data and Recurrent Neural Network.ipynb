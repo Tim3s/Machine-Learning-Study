{
  "nbformat": 4,
  "nbformat_minor": 0,
  "metadata": {
    "colab": {
      "name": "9-1 Sequential Data and Recurrent Neural Network",
      "provenance": [],
      "collapsed_sections": [],
      "authorship_tag": "ABX9TyOBBaxWxdpYIm7DVk5xxzfJ",
      "include_colab_link": true
    },
    "kernelspec": {
      "name": "python3",
      "display_name": "Python 3"
    },
    "language_info": {
      "name": "python"
    }
  },
  "cells": [
    {
      "cell_type": "markdown",
      "metadata": {
        "id": "view-in-github",
        "colab_type": "text"
      },
      "source": [
        "<a href=\"https://colab.research.google.com/github/Tim3s/Machine-Learning-Study/blob/main/9-1%20Sequential%20Data%20and%20Recurrent%20Neural%20Network.ipynb\" target=\"_parent\"><img src=\"https://colab.research.google.com/assets/colab-badge.svg\" alt=\"Open In Colab\"/></a>"
      ]
    },
    {
      "cell_type": "markdown",
      "metadata": {
        "id": "TYWiV08wsvcS"
      },
      "source": [
        "<p>Sequential Data: data with sequence. ex) sentences, daily temperature</p>\n",
        "<p>Recurrent Neural Network(RNN): use data of previous time step to process sequential data.</p>\n",
        "<p>Cell: One RNN layer. Hidden state of all neurons will be used in each neurons in next time step.</p>\n",
        "<p>Hidden State: output of RNN</p>\n",
        "<p> The very last hidden state will be one-dimensional, outputting only the output of last time step, while all previous hidden states will output output of all time step, to use in next cells.</p>"
      ]
    }
  ]
}